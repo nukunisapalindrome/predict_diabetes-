{
 "cells": [
  {
   "cell_type": "markdown",
   "metadata": {},
   "source": [
    "# First Neural Network with Keras\n",
    "In this tutorial, you will build your first **multilayer perceptron (MLP)** model (also your first neural network) in Python with Keras. As you will see, Keras is a easy-to-use deep API that allows you to easily build, train, evaluate and execute deep learning models. "
   ]
  },
  {
   "cell_type": "markdown",
   "metadata": {},
   "source": [
    "## 1. Load the dataset\n",
    "In this tutorial, we are going to use Pima Indians Diabetes dataset which is a standard machine learning dataset from the UCI Machine Learning repository. The dataset can be downloaded from <a href=\"https://raw.githubusercontent.com/jbrownlee/Datasets/master/pima-indians-diabetes.data.csv\" target=\"_blank\">here</a>. Place it in the same location as this notebook file.\n",
    "\n",
    "This is a comparably small dataset, with 768 samples in total. There are eight input features (X) and one output variable (y).\n",
    "\n",
    "Input features (X):\n",
    "\n",
    "1. Number of times pregnant\n",
    "2. Plasma glucose concentration a 2 hours in an oral glucose tolerance test\n",
    "3. Diastolic blood pressure (mm Hg)\n",
    "4. Triceps skin fold thickness (mm)\n",
    "5. 2-Hour serum insulin (mu U/ml)\n",
    "6. Body mass index (weight in kg/(height in m)^2)\n",
    "7. Diabetes pedigree function\n",
    "8. Age (years)\n",
    "\n",
    "Output Variables (y):\n",
    "\n",
    "1. Class label (1 for diabetes, 0 for not)\n",
    "\n",
    "First we need import all necessory libraries which we will need to work upon."
   ]
  },
  {
   "cell_type": "code",
   "execution_count": 2,
   "metadata": {
    "ExecuteTime": {
     "end_time": "2024-05-20T15:13:14.065083Z",
     "start_time": "2024-05-20T15:13:11.064479Z"
    }
   },
   "outputs": [],
   "source": [
    "from numpy import loadtxt\n",
    "from tensorflow.keras.models import Sequential\n",
    "from tensorflow.keras.layers import Dense\n",
    "from sklearn.model_selection import train_test_split"
   ]
  },
  {
   "cell_type": "markdown",
   "metadata": {},
   "source": [
    "Here we use `numpy` function `loadtxt` to load the CSV file. In the file, each row corresponds to one example, with nine columns. We can then split them into the input features (X) and output labels (y)."
   ]
  },
  {
   "cell_type": "code",
   "execution_count": 6,
   "metadata": {
    "ExecuteTime": {
     "end_time": "2024-05-20T15:18:23.055252Z",
     "start_time": "2024-05-20T15:18:23.043874Z"
    }
   },
   "outputs": [],
   "source": [
    "# load the dataset\n",
    "dataset = loadtxt(\"/Users/nuke/Desktop/11.Intelligent Control and Cognitive Systems/lecture materials /predict_diabetes/pima-indians-diabetes.data.csv\",delimiter=',')\n",
    "# split into input X and output y variables\n",
    "X = dataset[:,0:8]\n",
    "y = dataset[:,8]"
   ]
  },
  {
   "cell_type": "markdown",
   "metadata": {},
   "source": [
    "Let's print the dimension of X. You may also want to have a look of a few samples."
   ]
  },
  {
   "cell_type": "code",
   "execution_count": 7,
   "metadata": {
    "ExecuteTime": {
     "end_time": "2024-05-20T15:18:28.358951Z",
     "start_time": "2024-05-20T15:18:28.274912Z"
    }
   },
   "outputs": [
    {
     "name": "stdout",
     "output_type": "stream",
     "text": [
      "(768, 8)\n",
      "[  6.    148.     72.     35.      0.     33.6     0.627  50.      1.   ]\n",
      "[ 1.    85.    66.    29.     0.    26.6    0.351 31.     0.   ]\n",
      "[  8.    183.     64.      0.      0.     23.3     0.672  32.      1.   ]\n",
      "[ 1.    89.    66.    23.    94.    28.1    0.167 21.     0.   ]\n",
      "[  0.    137.     40.     35.    168.     43.1     2.288  33.      1.   ]\n"
     ]
    }
   ],
   "source": [
    "print(X.shape)\n",
    "for i in range(5):\n",
    "    print(dataset[i])"
   ]
  },
  {
   "cell_type": "markdown",
   "metadata": {},
   "source": [
    "Let's split them into training set and test set by using the `train_test_split( )` method from `sklearn`. `test_size = 0.2` means 20% examples are used for test. \n",
    "\n",
    "You must **treat the test set as unseen data**, which means any model adjustment must be done only on the training set. "
   ]
  },
  {
   "cell_type": "code",
   "execution_count": 8,
   "outputs": [],
   "source": [],
   "metadata": {
    "collapsed": false,
    "ExecuteTime": {
     "end_time": "2024-05-20T15:25:15.007262Z",
     "start_time": "2024-05-20T15:25:14.992799Z"
    }
   }
  },
  {
   "cell_type": "code",
   "execution_count": 9,
   "metadata": {
    "ExecuteTime": {
     "end_time": "2024-05-20T15:25:15.393486Z",
     "start_time": "2024-05-20T15:25:15.382247Z"
    }
   },
   "outputs": [],
   "source": [
    "X_train, X_test, y_train, y_test = train_test_split(X, y, test_size=0.2, random_state=0)"
   ]
  },
  {
   "cell_type": "markdown",
   "metadata": {},
   "source": [
    "## 2. Prepare the data\n",
    "Usually there is a pre-processing step before building the model. What pre-processing should be carried out depends on the data and any requirement for the model. For this dataset, the eight features are in variant ranges and scales, which may lead to unstable weight learning. In this case, the common practice is to standardize the input data, to make each feature to be mean 0 and unit variance. The network would then be trained on a more stable distribution of inputs."
   ]
  },
  {
   "cell_type": "code",
   "execution_count": 11,
   "metadata": {
    "ExecuteTime": {
     "end_time": "2024-05-20T15:35:31.775654Z",
     "start_time": "2024-05-20T15:35:31.773176Z"
    }
   },
   "outputs": [],
   "source": [
    "mean_train = X_train.mean(axis=0)\n",
    "std_train = X_train.std(axis=0)\n",
    "X_train = (X_train-mean_train)/std_train\n",
    "X_test = (X_test-mean_train)/std_train # Apply the same transformation on the testing set \n",
    "\n",
    "'''\n",
    "Normalization:\n",
    "\n",
    "(X_train-mean_train)/std_train: This line subtracts the mean of each feature (mean_train) from the corresponding feature values in the training dataset (X_train). \n",
    "Then, it divides each of these differences by the standard deviation of the corresponding feature (std_train). This operation is performed element-wise for each feature in the dataset.\n",
    "This process effectively centers the data around zero (by subtracting the mean) and scales it to have a standard deviation of 1 (by dividing by the standard deviation).\n",
    "'''"
   ]
  },
  {
   "cell_type": "markdown",
   "metadata": {},
   "source": [
    "## 3. Build your network\n",
    "Now we are ready to build our neural network. In Keras, we first create a `sequential` model, then add layers one by one. \n",
    "\n",
    "As there are only 8 input features in this dataset, we may consider to build a small-size MLP: three fully connected layers (or `Dense` layers). For each `Dense` layer, we specify the number of neurons in the layer as the first argument, and specify the activation function using the `activation` argument. For the first `Dense` layer, we also need give the input feature dimension (`input_dim=8`).\n",
    "\n",
    "We use the Rectified Linear Unit (ReLU) activation function for the 2 hidden layers, as ReLU usually produces better performance compared to the Sigmoid or Tanh functions. We use a sigmoid on the output layer to ensure the network output is between 0 and 1 and easy to map to either a probability of class 1 or snap to a hard classification of either class with a default threshold of 0.5.\n",
    "\n",
    "Now lets's interprete the following code as follows.\n",
    "\n",
    "1. The model expects the input data containing 8 features (or columns).\n",
    "2. We add the first hidden layer with 12 neurons and use the ReLU activation fuction.\n",
    "3. We add the second hidden layer with 6 neurons and use the ReLu activation function.\n",
    "4. Finally, we add the output layer with 1 neuron and use the sigmoid activation function."
   ]
  },
  {
   "cell_type": "code",
   "execution_count": 12,
   "metadata": {
    "ExecuteTime": {
     "end_time": "2024-05-20T15:47:07.363916Z",
     "start_time": "2024-05-20T15:47:07.194416Z"
    }
   },
   "outputs": [
    {
     "name": "stderr",
     "output_type": "stream",
     "text": [
      "/Library/Frameworks/Python.framework/Versions/3.11/lib/python3.11/site-packages/keras/src/layers/core/dense.py:87: UserWarning: Do not pass an `input_shape`/`input_dim` argument to a layer. When using Sequential models, prefer using an `Input(shape)` object as the first layer in the model instead.\n",
      "  super().__init__(activity_regularizer=activity_regularizer, **kwargs)\n"
     ]
    }
   ],
   "source": [
    "# define a keras model of a MLP network with three Dense layers\n",
    "model = Sequential()\n",
    "model.add(Dense(12, input_dim=8, activation = 'relu')) #add parameter input_dim as a feature\n",
    "model.add(Dense(6,activation='relu'))\n",
    "model.add(Dense(1,activation='sigmoid'))"
   ]
  },
  {
   "cell_type": "markdown",
   "metadata": {},
   "source": [
    "You can use the `summary()` method to display all the model's layers. "
   ]
  },
  {
   "cell_type": "code",
   "execution_count": 13,
   "metadata": {
    "ExecuteTime": {
     "end_time": "2024-05-20T15:47:35.549905Z",
     "start_time": "2024-05-20T15:47:35.473086Z"
    }
   },
   "outputs": [
    {
     "data": {
      "text/plain": "\u001B[1mModel: \"sequential\"\u001B[0m\n",
      "text/html": "<pre style=\"white-space:pre;overflow-x:auto;line-height:normal;font-family:Menlo,'DejaVu Sans Mono',consolas,'Courier New',monospace\"><span style=\"font-weight: bold\">Model: \"sequential\"</span>\n</pre>\n"
     },
     "metadata": {},
     "output_type": "display_data"
    },
    {
     "data": {
      "text/plain": "┏━━━━━━━━━━━━━━━━━━━━━━━━━━━━━━━━━┳━━━━━━━━━━━━━━━━━━━━━━━━┳━━━━━━━━━━━━━━━┓\n┃\u001B[1m \u001B[0m\u001B[1mLayer (type)                   \u001B[0m\u001B[1m \u001B[0m┃\u001B[1m \u001B[0m\u001B[1mOutput Shape          \u001B[0m\u001B[1m \u001B[0m┃\u001B[1m \u001B[0m\u001B[1m      Param #\u001B[0m\u001B[1m \u001B[0m┃\n┡━━━━━━━━━━━━━━━━━━━━━━━━━━━━━━━━━╇━━━━━━━━━━━━━━━━━━━━━━━━╇━━━━━━━━━━━━━━━┩\n│ dense (\u001B[38;5;33mDense\u001B[0m)                   │ (\u001B[38;5;45mNone\u001B[0m, \u001B[38;5;34m12\u001B[0m)             │           \u001B[38;5;34m108\u001B[0m │\n├─────────────────────────────────┼────────────────────────┼───────────────┤\n│ dense_1 (\u001B[38;5;33mDense\u001B[0m)                 │ (\u001B[38;5;45mNone\u001B[0m, \u001B[38;5;34m6\u001B[0m)              │            \u001B[38;5;34m78\u001B[0m │\n├─────────────────────────────────┼────────────────────────┼───────────────┤\n│ dense_2 (\u001B[38;5;33mDense\u001B[0m)                 │ (\u001B[38;5;45mNone\u001B[0m, \u001B[38;5;34m1\u001B[0m)              │             \u001B[38;5;34m7\u001B[0m │\n└─────────────────────────────────┴────────────────────────┴───────────────┘\n",
      "text/html": "<pre style=\"white-space:pre;overflow-x:auto;line-height:normal;font-family:Menlo,'DejaVu Sans Mono',consolas,'Courier New',monospace\">┏━━━━━━━━━━━━━━━━━━━━━━━━━━━━━━━━━┳━━━━━━━━━━━━━━━━━━━━━━━━┳━━━━━━━━━━━━━━━┓\n┃<span style=\"font-weight: bold\"> Layer (type)                    </span>┃<span style=\"font-weight: bold\"> Output Shape           </span>┃<span style=\"font-weight: bold\">       Param # </span>┃\n┡━━━━━━━━━━━━━━━━━━━━━━━━━━━━━━━━━╇━━━━━━━━━━━━━━━━━━━━━━━━╇━━━━━━━━━━━━━━━┩\n│ dense (<span style=\"color: #0087ff; text-decoration-color: #0087ff\">Dense</span>)                   │ (<span style=\"color: #00d7ff; text-decoration-color: #00d7ff\">None</span>, <span style=\"color: #00af00; text-decoration-color: #00af00\">12</span>)             │           <span style=\"color: #00af00; text-decoration-color: #00af00\">108</span> │\n├─────────────────────────────────┼────────────────────────┼───────────────┤\n│ dense_1 (<span style=\"color: #0087ff; text-decoration-color: #0087ff\">Dense</span>)                 │ (<span style=\"color: #00d7ff; text-decoration-color: #00d7ff\">None</span>, <span style=\"color: #00af00; text-decoration-color: #00af00\">6</span>)              │            <span style=\"color: #00af00; text-decoration-color: #00af00\">78</span> │\n├─────────────────────────────────┼────────────────────────┼───────────────┤\n│ dense_2 (<span style=\"color: #0087ff; text-decoration-color: #0087ff\">Dense</span>)                 │ (<span style=\"color: #00d7ff; text-decoration-color: #00d7ff\">None</span>, <span style=\"color: #00af00; text-decoration-color: #00af00\">1</span>)              │             <span style=\"color: #00af00; text-decoration-color: #00af00\">7</span> │\n└─────────────────────────────────┴────────────────────────┴───────────────┘\n</pre>\n"
     },
     "metadata": {},
     "output_type": "display_data"
    },
    {
     "data": {
      "text/plain": "\u001B[1m Total params: \u001B[0m\u001B[38;5;34m193\u001B[0m (772.00 B)\n",
      "text/html": "<pre style=\"white-space:pre;overflow-x:auto;line-height:normal;font-family:Menlo,'DejaVu Sans Mono',consolas,'Courier New',monospace\"><span style=\"font-weight: bold\"> Total params: </span><span style=\"color: #00af00; text-decoration-color: #00af00\">193</span> (772.00 B)\n</pre>\n"
     },
     "metadata": {},
     "output_type": "display_data"
    },
    {
     "data": {
      "text/plain": "\u001B[1m Trainable params: \u001B[0m\u001B[38;5;34m193\u001B[0m (772.00 B)\n",
      "text/html": "<pre style=\"white-space:pre;overflow-x:auto;line-height:normal;font-family:Menlo,'DejaVu Sans Mono',consolas,'Courier New',monospace\"><span style=\"font-weight: bold\"> Trainable params: </span><span style=\"color: #00af00; text-decoration-color: #00af00\">193</span> (772.00 B)\n</pre>\n"
     },
     "metadata": {},
     "output_type": "display_data"
    },
    {
     "data": {
      "text/plain": "\u001B[1m Non-trainable params: \u001B[0m\u001B[38;5;34m0\u001B[0m (0.00 B)\n",
      "text/html": "<pre style=\"white-space:pre;overflow-x:auto;line-height:normal;font-family:Menlo,'DejaVu Sans Mono',consolas,'Courier New',monospace\"><span style=\"font-weight: bold\"> Non-trainable params: </span><span style=\"color: #00af00; text-decoration-color: #00af00\">0</span> (0.00 B)\n</pre>\n"
     },
     "metadata": {},
     "output_type": "display_data"
    }
   ],
   "source": [
    "model.summary()"
   ]
  },
  {
   "cell_type": "markdown",
   "metadata": {},
   "source": [
    "Dense layers often have a lot of parameters. Even we build such a small MLP, there are 193 parameters in total. Let's see how the numbers are calculated. For example, the first hidden layer has 8 x 12 connection weights, plus 8 bias terms, which adds up to 108 parameters. "
   ]
  },
  {
   "cell_type": "markdown",
   "metadata": {},
   "source": [
    "## 3. Compile the model\n",
    "After the model is created, you must call the `compile()` method to specify the `loss` function and the `optimizer` to use. Optionally, you can specify a list of extra `metrics` to compute and report during training and evaluation.\n",
    "\n",
    "Regarding the binary classification problem, the typical loss function is `binary_crossentropy` defined in Keras. \n",
    "\n",
    "We choose the efficient stochastic gradient descent algorithm `adam` as the optimizer. It is a popular choice as it adaptively chooses the learning rate and gives good results in a wide range of problems. \n",
    "\n",
    "Since it is a classification problem, it is more intuitive to measure and report the classification `accuracy`, defined via the `metrics` argument. "
   ]
  },
  {
   "cell_type": "code",
   "execution_count": 14,
   "metadata": {
    "ExecuteTime": {
     "end_time": "2024-05-20T15:53:38.546098Z",
     "start_time": "2024-05-20T15:53:38.531271Z"
    }
   },
   "outputs": [],
   "source": [
    "# compile the model\n",
    "model.compile(loss='binary_crossentropy', optimizer='adam',metrics=['accuracy'])"
   ]
  },
  {
   "cell_type": "markdown",
   "metadata": {},
   "source": [
    "## 4. Train and validate the model\n",
    "Now the model is ready to be trained. For this we simply call its `fit()` method. We'll train the model for 120 epochs (120 itrations over all samples in the training set), in mini-batches of 32 samples. (If you don't know what mini-batch means, don't worry, we will talk about it in our later lectures.)\n",
    "\n",
    "We also split 25% examples in the training set as a validation set (this is optional). Keras will measure the loss and the accuracy on this validation set at the end of each epoch, which is very useful to see how well the model performs. Based on the performance on the validation set, we could modify the model and tune the hyperparameters accordingly."
   ]
  },
  {
   "cell_type": "code",
   "execution_count": 24,
   "metadata": {
    "ExecuteTime": {
     "end_time": "2024-05-20T16:21:30.777114Z",
     "start_time": "2024-05-20T16:21:26.953082Z"
    }
   },
   "outputs": [
    {
     "name": "stdout",
     "output_type": "stream",
     "text": [
      "Epoch 1/120\n",
      "\u001B[1m15/15\u001B[0m \u001B[32m━━━━━━━━━━━━━━━━━━━━\u001B[0m\u001B[37m\u001B[0m \u001B[1m0s\u001B[0m 3ms/step - accuracy: 0.8997 - loss: 0.2515 - val_accuracy: 0.7727 - val_loss: 0.7998\n",
      "Epoch 2/120\n",
      "\u001B[1m15/15\u001B[0m \u001B[32m━━━━━━━━━━━━━━━━━━━━\u001B[0m\u001B[37m\u001B[0m \u001B[1m0s\u001B[0m 2ms/step - accuracy: 0.8790 - loss: 0.2927 - val_accuracy: 0.7727 - val_loss: 0.8000\n",
      "Epoch 3/120\n",
      "\u001B[1m15/15\u001B[0m \u001B[32m━━━━━━━━━━━━━━━━━━━━\u001B[0m\u001B[37m\u001B[0m \u001B[1m0s\u001B[0m 1ms/step - accuracy: 0.8880 - loss: 0.2808 - val_accuracy: 0.7727 - val_loss: 0.7996\n",
      "Epoch 4/120\n",
      "\u001B[1m15/15\u001B[0m \u001B[32m━━━━━━━━━━━━━━━━━━━━\u001B[0m\u001B[37m\u001B[0m \u001B[1m0s\u001B[0m 2ms/step - accuracy: 0.8781 - loss: 0.2831 - val_accuracy: 0.7727 - val_loss: 0.7983\n",
      "Epoch 5/120\n",
      "\u001B[1m15/15\u001B[0m \u001B[32m━━━━━━━━━━━━━━━━━━━━\u001B[0m\u001B[37m\u001B[0m \u001B[1m0s\u001B[0m 1ms/step - accuracy: 0.8893 - loss: 0.2630 - val_accuracy: 0.7727 - val_loss: 0.7997\n",
      "Epoch 6/120\n",
      "\u001B[1m15/15\u001B[0m \u001B[32m━━━━━━━━━━━━━━━━━━━━\u001B[0m\u001B[37m\u001B[0m \u001B[1m0s\u001B[0m 1ms/step - accuracy: 0.8579 - loss: 0.2807 - val_accuracy: 0.7727 - val_loss: 0.7982\n",
      "Epoch 7/120\n",
      "\u001B[1m15/15\u001B[0m \u001B[32m━━━━━━━━━━━━━━━━━━━━\u001B[0m\u001B[37m\u001B[0m \u001B[1m0s\u001B[0m 2ms/step - accuracy: 0.8813 - loss: 0.2728 - val_accuracy: 0.7727 - val_loss: 0.8044\n",
      "Epoch 8/120\n",
      "\u001B[1m15/15\u001B[0m \u001B[32m━━━━━━━━━━━━━━━━━━━━\u001B[0m\u001B[37m\u001B[0m \u001B[1m0s\u001B[0m 2ms/step - accuracy: 0.9100 - loss: 0.2430 - val_accuracy: 0.7727 - val_loss: 0.8024\n",
      "Epoch 9/120\n",
      "\u001B[1m15/15\u001B[0m \u001B[32m━━━━━━━━━━━━━━━━━━━━\u001B[0m\u001B[37m\u001B[0m \u001B[1m0s\u001B[0m 2ms/step - accuracy: 0.9002 - loss: 0.2442 - val_accuracy: 0.7727 - val_loss: 0.7998\n",
      "Epoch 10/120\n",
      "\u001B[1m15/15\u001B[0m \u001B[32m━━━━━━━━━━━━━━━━━━━━\u001B[0m\u001B[37m\u001B[0m \u001B[1m0s\u001B[0m 2ms/step - accuracy: 0.8992 - loss: 0.2786 - val_accuracy: 0.7727 - val_loss: 0.8040\n",
      "Epoch 11/120\n",
      "\u001B[1m15/15\u001B[0m \u001B[32m━━━━━━━━━━━━━━━━━━━━\u001B[0m\u001B[37m\u001B[0m \u001B[1m0s\u001B[0m 1ms/step - accuracy: 0.9082 - loss: 0.2496 - val_accuracy: 0.7727 - val_loss: 0.8025\n",
      "Epoch 12/120\n",
      "\u001B[1m15/15\u001B[0m \u001B[32m━━━━━━━━━━━━━━━━━━━━\u001B[0m\u001B[37m\u001B[0m \u001B[1m0s\u001B[0m 1ms/step - accuracy: 0.9022 - loss: 0.2570 - val_accuracy: 0.7727 - val_loss: 0.8036\n",
      "Epoch 13/120\n",
      "\u001B[1m15/15\u001B[0m \u001B[32m━━━━━━━━━━━━━━━━━━━━\u001B[0m\u001B[37m\u001B[0m \u001B[1m0s\u001B[0m 2ms/step - accuracy: 0.9013 - loss: 0.2549 - val_accuracy: 0.7727 - val_loss: 0.8072\n",
      "Epoch 14/120\n",
      "\u001B[1m15/15\u001B[0m \u001B[32m━━━━━━━━━━━━━━━━━━━━\u001B[0m\u001B[37m\u001B[0m \u001B[1m0s\u001B[0m 2ms/step - accuracy: 0.8861 - loss: 0.2834 - val_accuracy: 0.7727 - val_loss: 0.8072\n",
      "Epoch 15/120\n",
      "\u001B[1m15/15\u001B[0m \u001B[32m━━━━━━━━━━━━━━━━━━━━\u001B[0m\u001B[37m\u001B[0m \u001B[1m0s\u001B[0m 1ms/step - accuracy: 0.9003 - loss: 0.2509 - val_accuracy: 0.7727 - val_loss: 0.8051\n",
      "Epoch 16/120\n",
      "\u001B[1m15/15\u001B[0m \u001B[32m━━━━━━━━━━━━━━━━━━━━\u001B[0m\u001B[37m\u001B[0m \u001B[1m0s\u001B[0m 1ms/step - accuracy: 0.8893 - loss: 0.2619 - val_accuracy: 0.7727 - val_loss: 0.8047\n",
      "Epoch 17/120\n",
      "\u001B[1m15/15\u001B[0m \u001B[32m━━━━━━━━━━━━━━━━━━━━\u001B[0m\u001B[37m\u001B[0m \u001B[1m0s\u001B[0m 1ms/step - accuracy: 0.8889 - loss: 0.2685 - val_accuracy: 0.7727 - val_loss: 0.8083\n",
      "Epoch 18/120\n",
      "\u001B[1m15/15\u001B[0m \u001B[32m━━━━━━━━━━━━━━━━━━━━\u001B[0m\u001B[37m\u001B[0m \u001B[1m0s\u001B[0m 1ms/step - accuracy: 0.8916 - loss: 0.2618 - val_accuracy: 0.7727 - val_loss: 0.8059\n",
      "Epoch 19/120\n",
      "\u001B[1m15/15\u001B[0m \u001B[32m━━━━━━━━━━━━━━━━━━━━\u001B[0m\u001B[37m\u001B[0m \u001B[1m0s\u001B[0m 1ms/step - accuracy: 0.9054 - loss: 0.2375 - val_accuracy: 0.7727 - val_loss: 0.8113\n",
      "Epoch 20/120\n",
      "\u001B[1m15/15\u001B[0m \u001B[32m━━━━━━━━━━━━━━━━━━━━\u001B[0m\u001B[37m\u001B[0m \u001B[1m0s\u001B[0m 1ms/step - accuracy: 0.8838 - loss: 0.2550 - val_accuracy: 0.7727 - val_loss: 0.8088\n",
      "Epoch 21/120\n",
      "\u001B[1m15/15\u001B[0m \u001B[32m━━━━━━━━━━━━━━━━━━━━\u001B[0m\u001B[37m\u001B[0m \u001B[1m0s\u001B[0m 1ms/step - accuracy: 0.8978 - loss: 0.2530 - val_accuracy: 0.7727 - val_loss: 0.8091\n",
      "Epoch 22/120\n",
      "\u001B[1m15/15\u001B[0m \u001B[32m━━━━━━━━━━━━━━━━━━━━\u001B[0m\u001B[37m\u001B[0m \u001B[1m0s\u001B[0m 1ms/step - accuracy: 0.8896 - loss: 0.2727 - val_accuracy: 0.7727 - val_loss: 0.8100\n",
      "Epoch 23/120\n",
      "\u001B[1m15/15\u001B[0m \u001B[32m━━━━━━━━━━━━━━━━━━━━\u001B[0m\u001B[37m\u001B[0m \u001B[1m0s\u001B[0m 1ms/step - accuracy: 0.8952 - loss: 0.2405 - val_accuracy: 0.7727 - val_loss: 0.8140\n",
      "Epoch 24/120\n",
      "\u001B[1m15/15\u001B[0m \u001B[32m━━━━━━━━━━━━━━━━━━━━\u001B[0m\u001B[37m\u001B[0m \u001B[1m0s\u001B[0m 1ms/step - accuracy: 0.8734 - loss: 0.2938 - val_accuracy: 0.7727 - val_loss: 0.8136\n",
      "Epoch 25/120\n",
      "\u001B[1m15/15\u001B[0m \u001B[32m━━━━━━━━━━━━━━━━━━━━\u001B[0m\u001B[37m\u001B[0m \u001B[1m0s\u001B[0m 1ms/step - accuracy: 0.8927 - loss: 0.2799 - val_accuracy: 0.7727 - val_loss: 0.8171\n",
      "Epoch 26/120\n",
      "\u001B[1m15/15\u001B[0m \u001B[32m━━━━━━━━━━━━━━━━━━━━\u001B[0m\u001B[37m\u001B[0m \u001B[1m0s\u001B[0m 1ms/step - accuracy: 0.8994 - loss: 0.2446 - val_accuracy: 0.7727 - val_loss: 0.8156\n",
      "Epoch 27/120\n",
      "\u001B[1m15/15\u001B[0m \u001B[32m━━━━━━━━━━━━━━━━━━━━\u001B[0m\u001B[37m\u001B[0m \u001B[1m0s\u001B[0m 1ms/step - accuracy: 0.8929 - loss: 0.2568 - val_accuracy: 0.7727 - val_loss: 0.8179\n",
      "Epoch 28/120\n",
      "\u001B[1m15/15\u001B[0m \u001B[32m━━━━━━━━━━━━━━━━━━━━\u001B[0m\u001B[37m\u001B[0m \u001B[1m0s\u001B[0m 1ms/step - accuracy: 0.8770 - loss: 0.2660 - val_accuracy: 0.7727 - val_loss: 0.8200\n",
      "Epoch 29/120\n",
      "\u001B[1m15/15\u001B[0m \u001B[32m━━━━━━━━━━━━━━━━━━━━\u001B[0m\u001B[37m\u001B[0m \u001B[1m0s\u001B[0m 1ms/step - accuracy: 0.8929 - loss: 0.2584 - val_accuracy: 0.7727 - val_loss: 0.8199\n",
      "Epoch 30/120\n",
      "\u001B[1m15/15\u001B[0m \u001B[32m━━━━━━━━━━━━━━━━━━━━\u001B[0m\u001B[37m\u001B[0m \u001B[1m0s\u001B[0m 1ms/step - accuracy: 0.8999 - loss: 0.2537 - val_accuracy: 0.7727 - val_loss: 0.8169\n",
      "Epoch 31/120\n",
      "\u001B[1m15/15\u001B[0m \u001B[32m━━━━━━━━━━━━━━━━━━━━\u001B[0m\u001B[37m\u001B[0m \u001B[1m0s\u001B[0m 1ms/step - accuracy: 0.8912 - loss: 0.2621 - val_accuracy: 0.7727 - val_loss: 0.8177\n",
      "Epoch 32/120\n",
      "\u001B[1m15/15\u001B[0m \u001B[32m━━━━━━━━━━━━━━━━━━━━\u001B[0m\u001B[37m\u001B[0m \u001B[1m0s\u001B[0m 1ms/step - accuracy: 0.9006 - loss: 0.2362 - val_accuracy: 0.7727 - val_loss: 0.8192\n",
      "Epoch 33/120\n",
      "\u001B[1m15/15\u001B[0m \u001B[32m━━━━━━━━━━━━━━━━━━━━\u001B[0m\u001B[37m\u001B[0m \u001B[1m0s\u001B[0m 1ms/step - accuracy: 0.9075 - loss: 0.2310 - val_accuracy: 0.7727 - val_loss: 0.8198\n",
      "Epoch 34/120\n",
      "\u001B[1m15/15\u001B[0m \u001B[32m━━━━━━━━━━━━━━━━━━━━\u001B[0m\u001B[37m\u001B[0m \u001B[1m0s\u001B[0m 1ms/step - accuracy: 0.8922 - loss: 0.2493 - val_accuracy: 0.7727 - val_loss: 0.8202\n",
      "Epoch 35/120\n",
      "\u001B[1m15/15\u001B[0m \u001B[32m━━━━━━━━━━━━━━━━━━━━\u001B[0m\u001B[37m\u001B[0m \u001B[1m0s\u001B[0m 1ms/step - accuracy: 0.9018 - loss: 0.2441 - val_accuracy: 0.7727 - val_loss: 0.8224\n",
      "Epoch 36/120\n",
      "\u001B[1m15/15\u001B[0m \u001B[32m━━━━━━━━━━━━━━━━━━━━\u001B[0m\u001B[37m\u001B[0m \u001B[1m0s\u001B[0m 2ms/step - accuracy: 0.8944 - loss: 0.2727 - val_accuracy: 0.7727 - val_loss: 0.8236\n",
      "Epoch 37/120\n",
      "\u001B[1m15/15\u001B[0m \u001B[32m━━━━━━━━━━━━━━━━━━━━\u001B[0m\u001B[37m\u001B[0m \u001B[1m0s\u001B[0m 2ms/step - accuracy: 0.9059 - loss: 0.2614 - val_accuracy: 0.7662 - val_loss: 0.8243\n",
      "Epoch 38/120\n",
      "\u001B[1m15/15\u001B[0m \u001B[32m━━━━━━━━━━━━━━━━━━━━\u001B[0m\u001B[37m\u001B[0m \u001B[1m0s\u001B[0m 2ms/step - accuracy: 0.9033 - loss: 0.2455 - val_accuracy: 0.7662 - val_loss: 0.8197\n",
      "Epoch 39/120\n",
      "\u001B[1m15/15\u001B[0m \u001B[32m━━━━━━━━━━━━━━━━━━━━\u001B[0m\u001B[37m\u001B[0m \u001B[1m0s\u001B[0m 1ms/step - accuracy: 0.8989 - loss: 0.2713 - val_accuracy: 0.7727 - val_loss: 0.8253\n",
      "Epoch 40/120\n",
      "\u001B[1m15/15\u001B[0m \u001B[32m━━━━━━━━━━━━━━━━━━━━\u001B[0m\u001B[37m\u001B[0m \u001B[1m0s\u001B[0m 1ms/step - accuracy: 0.8964 - loss: 0.2813 - val_accuracy: 0.7727 - val_loss: 0.8236\n",
      "Epoch 41/120\n",
      "\u001B[1m15/15\u001B[0m \u001B[32m━━━━━━━━━━━━━━━━━━━━\u001B[0m\u001B[37m\u001B[0m \u001B[1m0s\u001B[0m 1ms/step - accuracy: 0.9099 - loss: 0.2413 - val_accuracy: 0.7727 - val_loss: 0.8220\n",
      "Epoch 42/120\n",
      "\u001B[1m15/15\u001B[0m \u001B[32m━━━━━━━━━━━━━━━━━━━━\u001B[0m\u001B[37m\u001B[0m \u001B[1m0s\u001B[0m 1ms/step - accuracy: 0.8968 - loss: 0.2492 - val_accuracy: 0.7727 - val_loss: 0.8245\n",
      "Epoch 43/120\n",
      "\u001B[1m15/15\u001B[0m \u001B[32m━━━━━━━━━━━━━━━━━━━━\u001B[0m\u001B[37m\u001B[0m \u001B[1m0s\u001B[0m 2ms/step - accuracy: 0.9104 - loss: 0.2497 - val_accuracy: 0.7727 - val_loss: 0.8270\n",
      "Epoch 44/120\n",
      "\u001B[1m15/15\u001B[0m \u001B[32m━━━━━━━━━━━━━━━━━━━━\u001B[0m\u001B[37m\u001B[0m \u001B[1m0s\u001B[0m 1ms/step - accuracy: 0.8993 - loss: 0.2534 - val_accuracy: 0.7662 - val_loss: 0.8273\n",
      "Epoch 45/120\n",
      "\u001B[1m15/15\u001B[0m \u001B[32m━━━━━━━━━━━━━━━━━━━━\u001B[0m\u001B[37m\u001B[0m \u001B[1m0s\u001B[0m 1ms/step - accuracy: 0.8987 - loss: 0.2641 - val_accuracy: 0.7727 - val_loss: 0.8314\n",
      "Epoch 46/120\n",
      "\u001B[1m15/15\u001B[0m \u001B[32m━━━━━━━━━━━━━━━━━━━━\u001B[0m\u001B[37m\u001B[0m \u001B[1m0s\u001B[0m 1ms/step - accuracy: 0.8930 - loss: 0.2483 - val_accuracy: 0.7727 - val_loss: 0.8300\n",
      "Epoch 47/120\n",
      "\u001B[1m15/15\u001B[0m \u001B[32m━━━━━━━━━━━━━━━━━━━━\u001B[0m\u001B[37m\u001B[0m \u001B[1m0s\u001B[0m 1ms/step - accuracy: 0.8879 - loss: 0.2606 - val_accuracy: 0.7662 - val_loss: 0.8305\n",
      "Epoch 48/120\n",
      "\u001B[1m15/15\u001B[0m \u001B[32m━━━━━━━━━━━━━━━━━━━━\u001B[0m\u001B[37m\u001B[0m \u001B[1m0s\u001B[0m 1ms/step - accuracy: 0.9061 - loss: 0.2395 - val_accuracy: 0.7727 - val_loss: 0.8364\n",
      "Epoch 49/120\n",
      "\u001B[1m15/15\u001B[0m \u001B[32m━━━━━━━━━━━━━━━━━━━━\u001B[0m\u001B[37m\u001B[0m \u001B[1m0s\u001B[0m 1ms/step - accuracy: 0.8905 - loss: 0.2614 - val_accuracy: 0.7727 - val_loss: 0.8316\n",
      "Epoch 50/120\n",
      "\u001B[1m15/15\u001B[0m \u001B[32m━━━━━━━━━━━━━━━━━━━━\u001B[0m\u001B[37m\u001B[0m \u001B[1m0s\u001B[0m 1ms/step - accuracy: 0.9124 - loss: 0.2335 - val_accuracy: 0.7727 - val_loss: 0.8334\n",
      "Epoch 51/120\n",
      "\u001B[1m15/15\u001B[0m \u001B[32m━━━━━━━━━━━━━━━━━━━━\u001B[0m\u001B[37m\u001B[0m \u001B[1m0s\u001B[0m 1ms/step - accuracy: 0.9076 - loss: 0.2425 - val_accuracy: 0.7727 - val_loss: 0.8350\n",
      "Epoch 52/120\n",
      "\u001B[1m15/15\u001B[0m \u001B[32m━━━━━━━━━━━━━━━━━━━━\u001B[0m\u001B[37m\u001B[0m \u001B[1m0s\u001B[0m 1ms/step - accuracy: 0.8990 - loss: 0.2494 - val_accuracy: 0.7662 - val_loss: 0.8316\n",
      "Epoch 53/120\n",
      "\u001B[1m15/15\u001B[0m \u001B[32m━━━━━━━━━━━━━━━━━━━━\u001B[0m\u001B[37m\u001B[0m \u001B[1m0s\u001B[0m 1ms/step - accuracy: 0.9159 - loss: 0.2301 - val_accuracy: 0.7727 - val_loss: 0.8345\n",
      "Epoch 54/120\n",
      "\u001B[1m15/15\u001B[0m \u001B[32m━━━━━━━━━━━━━━━━━━━━\u001B[0m\u001B[37m\u001B[0m \u001B[1m0s\u001B[0m 1ms/step - accuracy: 0.8939 - loss: 0.2683 - val_accuracy: 0.7662 - val_loss: 0.8338\n",
      "Epoch 55/120\n",
      "\u001B[1m15/15\u001B[0m \u001B[32m━━━━━━━━━━━━━━━━━━━━\u001B[0m\u001B[37m\u001B[0m \u001B[1m0s\u001B[0m 1ms/step - accuracy: 0.9078 - loss: 0.2600 - val_accuracy: 0.7662 - val_loss: 0.8363\n",
      "Epoch 56/120\n",
      "\u001B[1m15/15\u001B[0m \u001B[32m━━━━━━━━━━━━━━━━━━━━\u001B[0m\u001B[37m\u001B[0m \u001B[1m0s\u001B[0m 1ms/step - accuracy: 0.8817 - loss: 0.2741 - val_accuracy: 0.7662 - val_loss: 0.8389\n",
      "Epoch 57/120\n",
      "\u001B[1m15/15\u001B[0m \u001B[32m━━━━━━━━━━━━━━━━━━━━\u001B[0m\u001B[37m\u001B[0m \u001B[1m0s\u001B[0m 1ms/step - accuracy: 0.9158 - loss: 0.2403 - val_accuracy: 0.7727 - val_loss: 0.8424\n",
      "Epoch 58/120\n",
      "\u001B[1m15/15\u001B[0m \u001B[32m━━━━━━━━━━━━━━━━━━━━\u001B[0m\u001B[37m\u001B[0m \u001B[1m0s\u001B[0m 1ms/step - accuracy: 0.9088 - loss: 0.2513 - val_accuracy: 0.7727 - val_loss: 0.8397\n",
      "Epoch 59/120\n",
      "\u001B[1m15/15\u001B[0m \u001B[32m━━━━━━━━━━━━━━━━━━━━\u001B[0m\u001B[37m\u001B[0m \u001B[1m0s\u001B[0m 1ms/step - accuracy: 0.8957 - loss: 0.2621 - val_accuracy: 0.7662 - val_loss: 0.8355\n",
      "Epoch 60/120\n",
      "\u001B[1m15/15\u001B[0m \u001B[32m━━━━━━━━━━━━━━━━━━━━\u001B[0m\u001B[37m\u001B[0m \u001B[1m0s\u001B[0m 1ms/step - accuracy: 0.8938 - loss: 0.2483 - val_accuracy: 0.7662 - val_loss: 0.8385\n",
      "Epoch 61/120\n",
      "\u001B[1m15/15\u001B[0m \u001B[32m━━━━━━━━━━━━━━━━━━━━\u001B[0m\u001B[37m\u001B[0m \u001B[1m0s\u001B[0m 1ms/step - accuracy: 0.9084 - loss: 0.2344 - val_accuracy: 0.7727 - val_loss: 0.8426\n",
      "Epoch 62/120\n",
      "\u001B[1m15/15\u001B[0m \u001B[32m━━━━━━━━━━━━━━━━━━━━\u001B[0m\u001B[37m\u001B[0m \u001B[1m0s\u001B[0m 1ms/step - accuracy: 0.9141 - loss: 0.2534 - val_accuracy: 0.7662 - val_loss: 0.8423\n",
      "Epoch 63/120\n",
      "\u001B[1m15/15\u001B[0m \u001B[32m━━━━━━━━━━━━━━━━━━━━\u001B[0m\u001B[37m\u001B[0m \u001B[1m0s\u001B[0m 1ms/step - accuracy: 0.9111 - loss: 0.2406 - val_accuracy: 0.7662 - val_loss: 0.8452\n",
      "Epoch 64/120\n",
      "\u001B[1m15/15\u001B[0m \u001B[32m━━━━━━━━━━━━━━━━━━━━\u001B[0m\u001B[37m\u001B[0m \u001B[1m0s\u001B[0m 1ms/step - accuracy: 0.9072 - loss: 0.2434 - val_accuracy: 0.7727 - val_loss: 0.8446\n",
      "Epoch 65/120\n",
      "\u001B[1m15/15\u001B[0m \u001B[32m━━━━━━━━━━━━━━━━━━━━\u001B[0m\u001B[37m\u001B[0m \u001B[1m0s\u001B[0m 1ms/step - accuracy: 0.8915 - loss: 0.2505 - val_accuracy: 0.7727 - val_loss: 0.8459\n",
      "Epoch 66/120\n",
      "\u001B[1m15/15\u001B[0m \u001B[32m━━━━━━━━━━━━━━━━━━━━\u001B[0m\u001B[37m\u001B[0m \u001B[1m0s\u001B[0m 1ms/step - accuracy: 0.9098 - loss: 0.2331 - val_accuracy: 0.7662 - val_loss: 0.8402\n",
      "Epoch 67/120\n",
      "\u001B[1m15/15\u001B[0m \u001B[32m━━━━━━━━━━━━━━━━━━━━\u001B[0m\u001B[37m\u001B[0m \u001B[1m0s\u001B[0m 1ms/step - accuracy: 0.8971 - loss: 0.2513 - val_accuracy: 0.7662 - val_loss: 0.8398\n",
      "Epoch 68/120\n",
      "\u001B[1m15/15\u001B[0m \u001B[32m━━━━━━━━━━━━━━━━━━━━\u001B[0m\u001B[37m\u001B[0m \u001B[1m0s\u001B[0m 1ms/step - accuracy: 0.8922 - loss: 0.2539 - val_accuracy: 0.7662 - val_loss: 0.8432\n",
      "Epoch 69/120\n",
      "\u001B[1m15/15\u001B[0m \u001B[32m━━━━━━━━━━━━━━━━━━━━\u001B[0m\u001B[37m\u001B[0m \u001B[1m0s\u001B[0m 1ms/step - accuracy: 0.9052 - loss: 0.2353 - val_accuracy: 0.7662 - val_loss: 0.8458\n",
      "Epoch 70/120\n",
      "\u001B[1m15/15\u001B[0m \u001B[32m━━━━━━━━━━━━━━━━━━━━\u001B[0m\u001B[37m\u001B[0m \u001B[1m0s\u001B[0m 1ms/step - accuracy: 0.8949 - loss: 0.2578 - val_accuracy: 0.7662 - val_loss: 0.8505\n",
      "Epoch 71/120\n",
      "\u001B[1m15/15\u001B[0m \u001B[32m━━━━━━━━━━━━━━━━━━━━\u001B[0m\u001B[37m\u001B[0m \u001B[1m0s\u001B[0m 1ms/step - accuracy: 0.8864 - loss: 0.2866 - val_accuracy: 0.7662 - val_loss: 0.8512\n",
      "Epoch 72/120\n",
      "\u001B[1m15/15\u001B[0m \u001B[32m━━━━━━━━━━━━━━━━━━━━\u001B[0m\u001B[37m\u001B[0m \u001B[1m0s\u001B[0m 1ms/step - accuracy: 0.9207 - loss: 0.2219 - val_accuracy: 0.7662 - val_loss: 0.8547\n",
      "Epoch 73/120\n",
      "\u001B[1m15/15\u001B[0m \u001B[32m━━━━━━━━━━━━━━━━━━━━\u001B[0m\u001B[37m\u001B[0m \u001B[1m0s\u001B[0m 1ms/step - accuracy: 0.9092 - loss: 0.2444 - val_accuracy: 0.7662 - val_loss: 0.8522\n",
      "Epoch 74/120\n",
      "\u001B[1m15/15\u001B[0m \u001B[32m━━━━━━━━━━━━━━━━━━━━\u001B[0m\u001B[37m\u001B[0m \u001B[1m0s\u001B[0m 1ms/step - accuracy: 0.9104 - loss: 0.2318 - val_accuracy: 0.7662 - val_loss: 0.8564\n",
      "Epoch 75/120\n",
      "\u001B[1m15/15\u001B[0m \u001B[32m━━━━━━━━━━━━━━━━━━━━\u001B[0m\u001B[37m\u001B[0m \u001B[1m0s\u001B[0m 1ms/step - accuracy: 0.8931 - loss: 0.2741 - val_accuracy: 0.7662 - val_loss: 0.8548\n",
      "Epoch 76/120\n",
      "\u001B[1m15/15\u001B[0m \u001B[32m━━━━━━━━━━━━━━━━━━━━\u001B[0m\u001B[37m\u001B[0m \u001B[1m0s\u001B[0m 1ms/step - accuracy: 0.9151 - loss: 0.2175 - val_accuracy: 0.7662 - val_loss: 0.8547\n",
      "Epoch 77/120\n",
      "\u001B[1m15/15\u001B[0m \u001B[32m━━━━━━━━━━━━━━━━━━━━\u001B[0m\u001B[37m\u001B[0m \u001B[1m0s\u001B[0m 1ms/step - accuracy: 0.9148 - loss: 0.2388 - val_accuracy: 0.7662 - val_loss: 0.8559\n",
      "Epoch 78/120\n",
      "\u001B[1m15/15\u001B[0m \u001B[32m━━━━━━━━━━━━━━━━━━━━\u001B[0m\u001B[37m\u001B[0m \u001B[1m0s\u001B[0m 1ms/step - accuracy: 0.9094 - loss: 0.2506 - val_accuracy: 0.7662 - val_loss: 0.8589\n",
      "Epoch 79/120\n",
      "\u001B[1m15/15\u001B[0m \u001B[32m━━━━━━━━━━━━━━━━━━━━\u001B[0m\u001B[37m\u001B[0m \u001B[1m0s\u001B[0m 1ms/step - accuracy: 0.9291 - loss: 0.2078 - val_accuracy: 0.7662 - val_loss: 0.8614\n",
      "Epoch 80/120\n",
      "\u001B[1m15/15\u001B[0m \u001B[32m━━━━━━━━━━━━━━━━━━━━\u001B[0m\u001B[37m\u001B[0m \u001B[1m0s\u001B[0m 1ms/step - accuracy: 0.8902 - loss: 0.2759 - val_accuracy: 0.7662 - val_loss: 0.8582\n",
      "Epoch 81/120\n",
      "\u001B[1m15/15\u001B[0m \u001B[32m━━━━━━━━━━━━━━━━━━━━\u001B[0m\u001B[37m\u001B[0m \u001B[1m0s\u001B[0m 1ms/step - accuracy: 0.9037 - loss: 0.2666 - val_accuracy: 0.7662 - val_loss: 0.8582\n",
      "Epoch 82/120\n",
      "\u001B[1m15/15\u001B[0m \u001B[32m━━━━━━━━━━━━━━━━━━━━\u001B[0m\u001B[37m\u001B[0m \u001B[1m0s\u001B[0m 1ms/step - accuracy: 0.8972 - loss: 0.2565 - val_accuracy: 0.7532 - val_loss: 0.8627\n",
      "Epoch 83/120\n",
      "\u001B[1m15/15\u001B[0m \u001B[32m━━━━━━━━━━━━━━━━━━━━\u001B[0m\u001B[37m\u001B[0m \u001B[1m0s\u001B[0m 1ms/step - accuracy: 0.9237 - loss: 0.2308 - val_accuracy: 0.7662 - val_loss: 0.8616\n",
      "Epoch 84/120\n",
      "\u001B[1m15/15\u001B[0m \u001B[32m━━━━━━━━━━━━━━━━━━━━\u001B[0m\u001B[37m\u001B[0m \u001B[1m0s\u001B[0m 1ms/step - accuracy: 0.9022 - loss: 0.2327 - val_accuracy: 0.7662 - val_loss: 0.8644\n",
      "Epoch 85/120\n",
      "\u001B[1m15/15\u001B[0m \u001B[32m━━━━━━━━━━━━━━━━━━━━\u001B[0m\u001B[37m\u001B[0m \u001B[1m0s\u001B[0m 1ms/step - accuracy: 0.9059 - loss: 0.2336 - val_accuracy: 0.7597 - val_loss: 0.8651\n",
      "Epoch 86/120\n",
      "\u001B[1m15/15\u001B[0m \u001B[32m━━━━━━━━━━━━━━━━━━━━\u001B[0m\u001B[37m\u001B[0m \u001B[1m0s\u001B[0m 1ms/step - accuracy: 0.9240 - loss: 0.2391 - val_accuracy: 0.7597 - val_loss: 0.8642\n",
      "Epoch 87/120\n",
      "\u001B[1m15/15\u001B[0m \u001B[32m━━━━━━━━━━━━━━━━━━━━\u001B[0m\u001B[37m\u001B[0m \u001B[1m0s\u001B[0m 1ms/step - accuracy: 0.8900 - loss: 0.2633 - val_accuracy: 0.7597 - val_loss: 0.8684\n",
      "Epoch 88/120\n",
      "\u001B[1m15/15\u001B[0m \u001B[32m━━━━━━━━━━━━━━━━━━━━\u001B[0m\u001B[37m\u001B[0m \u001B[1m0s\u001B[0m 1ms/step - accuracy: 0.9088 - loss: 0.2376 - val_accuracy: 0.7662 - val_loss: 0.8720\n",
      "Epoch 89/120\n",
      "\u001B[1m15/15\u001B[0m \u001B[32m━━━━━━━━━━━━━━━━━━━━\u001B[0m\u001B[37m\u001B[0m \u001B[1m0s\u001B[0m 1ms/step - accuracy: 0.8914 - loss: 0.2591 - val_accuracy: 0.7597 - val_loss: 0.8723\n",
      "Epoch 90/120\n",
      "\u001B[1m15/15\u001B[0m \u001B[32m━━━━━━━━━━━━━━━━━━━━\u001B[0m\u001B[37m\u001B[0m \u001B[1m0s\u001B[0m 1ms/step - accuracy: 0.8989 - loss: 0.2434 - val_accuracy: 0.7597 - val_loss: 0.8722\n",
      "Epoch 91/120\n",
      "\u001B[1m15/15\u001B[0m \u001B[32m━━━━━━━━━━━━━━━━━━━━\u001B[0m\u001B[37m\u001B[0m \u001B[1m0s\u001B[0m 1ms/step - accuracy: 0.9007 - loss: 0.2437 - val_accuracy: 0.7532 - val_loss: 0.8738\n",
      "Epoch 92/120\n",
      "\u001B[1m15/15\u001B[0m \u001B[32m━━━━━━━━━━━━━━━━━━━━\u001B[0m\u001B[37m\u001B[0m \u001B[1m0s\u001B[0m 1ms/step - accuracy: 0.9175 - loss: 0.2286 - val_accuracy: 0.7532 - val_loss: 0.8720\n",
      "Epoch 93/120\n",
      "\u001B[1m15/15\u001B[0m \u001B[32m━━━━━━━━━━━━━━━━━━━━\u001B[0m\u001B[37m\u001B[0m \u001B[1m0s\u001B[0m 2ms/step - accuracy: 0.8875 - loss: 0.2573 - val_accuracy: 0.7597 - val_loss: 0.8732\n",
      "Epoch 94/120\n",
      "\u001B[1m15/15\u001B[0m \u001B[32m━━━━━━━━━━━━━━━━━━━━\u001B[0m\u001B[37m\u001B[0m \u001B[1m0s\u001B[0m 2ms/step - accuracy: 0.8990 - loss: 0.2645 - val_accuracy: 0.7597 - val_loss: 0.8746\n",
      "Epoch 95/120\n",
      "\u001B[1m15/15\u001B[0m \u001B[32m━━━━━━━━━━━━━━━━━━━━\u001B[0m\u001B[37m\u001B[0m \u001B[1m0s\u001B[0m 1ms/step - accuracy: 0.9009 - loss: 0.2613 - val_accuracy: 0.7597 - val_loss: 0.8764\n",
      "Epoch 96/120\n",
      "\u001B[1m15/15\u001B[0m \u001B[32m━━━━━━━━━━━━━━━━━━━━\u001B[0m\u001B[37m\u001B[0m \u001B[1m0s\u001B[0m 2ms/step - accuracy: 0.9177 - loss: 0.2258 - val_accuracy: 0.7597 - val_loss: 0.8806\n",
      "Epoch 97/120\n",
      "\u001B[1m15/15\u001B[0m \u001B[32m━━━━━━━━━━━━━━━━━━━━\u001B[0m\u001B[37m\u001B[0m \u001B[1m0s\u001B[0m 1ms/step - accuracy: 0.8929 - loss: 0.2557 - val_accuracy: 0.7532 - val_loss: 0.8745\n",
      "Epoch 98/120\n",
      "\u001B[1m15/15\u001B[0m \u001B[32m━━━━━━━━━━━━━━━━━━━━\u001B[0m\u001B[37m\u001B[0m \u001B[1m0s\u001B[0m 1ms/step - accuracy: 0.9195 - loss: 0.2188 - val_accuracy: 0.7532 - val_loss: 0.8760\n",
      "Epoch 99/120\n",
      "\u001B[1m15/15\u001B[0m \u001B[32m━━━━━━━━━━━━━━━━━━━━\u001B[0m\u001B[37m\u001B[0m \u001B[1m0s\u001B[0m 1ms/step - accuracy: 0.9036 - loss: 0.2366 - val_accuracy: 0.7597 - val_loss: 0.8819\n",
      "Epoch 100/120\n",
      "\u001B[1m15/15\u001B[0m \u001B[32m━━━━━━━━━━━━━━━━━━━━\u001B[0m\u001B[37m\u001B[0m \u001B[1m0s\u001B[0m 1ms/step - accuracy: 0.9187 - loss: 0.2103 - val_accuracy: 0.7597 - val_loss: 0.8806\n",
      "Epoch 101/120\n",
      "\u001B[1m15/15\u001B[0m \u001B[32m━━━━━━━━━━━━━━━━━━━━\u001B[0m\u001B[37m\u001B[0m \u001B[1m0s\u001B[0m 1ms/step - accuracy: 0.8864 - loss: 0.2768 - val_accuracy: 0.7597 - val_loss: 0.8820\n",
      "Epoch 102/120\n",
      "\u001B[1m15/15\u001B[0m \u001B[32m━━━━━━━━━━━━━━━━━━━━\u001B[0m\u001B[37m\u001B[0m \u001B[1m0s\u001B[0m 1ms/step - accuracy: 0.9051 - loss: 0.2300 - val_accuracy: 0.7597 - val_loss: 0.8834\n",
      "Epoch 103/120\n",
      "\u001B[1m15/15\u001B[0m \u001B[32m━━━━━━━━━━━━━━━━━━━━\u001B[0m\u001B[37m\u001B[0m \u001B[1m0s\u001B[0m 1ms/step - accuracy: 0.9121 - loss: 0.2311 - val_accuracy: 0.7597 - val_loss: 0.8839\n",
      "Epoch 104/120\n",
      "\u001B[1m15/15\u001B[0m \u001B[32m━━━━━━━━━━━━━━━━━━━━\u001B[0m\u001B[37m\u001B[0m \u001B[1m0s\u001B[0m 1ms/step - accuracy: 0.9092 - loss: 0.2499 - val_accuracy: 0.7597 - val_loss: 0.8855\n",
      "Epoch 105/120\n",
      "\u001B[1m15/15\u001B[0m \u001B[32m━━━━━━━━━━━━━━━━━━━━\u001B[0m\u001B[37m\u001B[0m \u001B[1m0s\u001B[0m 2ms/step - accuracy: 0.9092 - loss: 0.2399 - val_accuracy: 0.7597 - val_loss: 0.8895\n",
      "Epoch 106/120\n",
      "\u001B[1m15/15\u001B[0m \u001B[32m━━━━━━━━━━━━━━━━━━━━\u001B[0m\u001B[37m\u001B[0m \u001B[1m0s\u001B[0m 1ms/step - accuracy: 0.9204 - loss: 0.2111 - val_accuracy: 0.7597 - val_loss: 0.8894\n",
      "Epoch 107/120\n",
      "\u001B[1m15/15\u001B[0m \u001B[32m━━━━━━━━━━━━━━━━━━━━\u001B[0m\u001B[37m\u001B[0m \u001B[1m0s\u001B[0m 1ms/step - accuracy: 0.8941 - loss: 0.2425 - val_accuracy: 0.7597 - val_loss: 0.8861\n",
      "Epoch 108/120\n",
      "\u001B[1m15/15\u001B[0m \u001B[32m━━━━━━━━━━━━━━━━━━━━\u001B[0m\u001B[37m\u001B[0m \u001B[1m0s\u001B[0m 2ms/step - accuracy: 0.9154 - loss: 0.2267 - val_accuracy: 0.7597 - val_loss: 0.8898\n",
      "Epoch 109/120\n",
      "\u001B[1m15/15\u001B[0m \u001B[32m━━━━━━━━━━━━━━━━━━━━\u001B[0m\u001B[37m\u001B[0m \u001B[1m0s\u001B[0m 1ms/step - accuracy: 0.8992 - loss: 0.2575 - val_accuracy: 0.7597 - val_loss: 0.8905\n",
      "Epoch 110/120\n",
      "\u001B[1m15/15\u001B[0m \u001B[32m━━━━━━━━━━━━━━━━━━━━\u001B[0m\u001B[37m\u001B[0m \u001B[1m0s\u001B[0m 1ms/step - accuracy: 0.9039 - loss: 0.2361 - val_accuracy: 0.7597 - val_loss: 0.8914\n",
      "Epoch 111/120\n",
      "\u001B[1m15/15\u001B[0m \u001B[32m━━━━━━━━━━━━━━━━━━━━\u001B[0m\u001B[37m\u001B[0m \u001B[1m0s\u001B[0m 1ms/step - accuracy: 0.8998 - loss: 0.2516 - val_accuracy: 0.7532 - val_loss: 0.8875\n",
      "Epoch 112/120\n",
      "\u001B[1m15/15\u001B[0m \u001B[32m━━━━━━━━━━━━━━━━━━━━\u001B[0m\u001B[37m\u001B[0m \u001B[1m0s\u001B[0m 1ms/step - accuracy: 0.9044 - loss: 0.2484 - val_accuracy: 0.7597 - val_loss: 0.8930\n",
      "Epoch 113/120\n",
      "\u001B[1m15/15\u001B[0m \u001B[32m━━━━━━━━━━━━━━━━━━━━\u001B[0m\u001B[37m\u001B[0m \u001B[1m0s\u001B[0m 1ms/step - accuracy: 0.8981 - loss: 0.2387 - val_accuracy: 0.7597 - val_loss: 0.8926\n",
      "Epoch 114/120\n",
      "\u001B[1m15/15\u001B[0m \u001B[32m━━━━━━━━━━━━━━━━━━━━\u001B[0m\u001B[37m\u001B[0m \u001B[1m0s\u001B[0m 1ms/step - accuracy: 0.8987 - loss: 0.2350 - val_accuracy: 0.7597 - val_loss: 0.8933\n",
      "Epoch 115/120\n",
      "\u001B[1m15/15\u001B[0m \u001B[32m━━━━━━━━━━━━━━━━━━━━\u001B[0m\u001B[37m\u001B[0m \u001B[1m0s\u001B[0m 1ms/step - accuracy: 0.9033 - loss: 0.2643 - val_accuracy: 0.7597 - val_loss: 0.8953\n",
      "Epoch 116/120\n",
      "\u001B[1m15/15\u001B[0m \u001B[32m━━━━━━━━━━━━━━━━━━━━\u001B[0m\u001B[37m\u001B[0m \u001B[1m0s\u001B[0m 1ms/step - accuracy: 0.9093 - loss: 0.2390 - val_accuracy: 0.7597 - val_loss: 0.8962\n",
      "Epoch 117/120\n",
      "\u001B[1m15/15\u001B[0m \u001B[32m━━━━━━━━━━━━━━━━━━━━\u001B[0m\u001B[37m\u001B[0m \u001B[1m0s\u001B[0m 1ms/step - accuracy: 0.9107 - loss: 0.2245 - val_accuracy: 0.7597 - val_loss: 0.9042\n",
      "Epoch 118/120\n",
      "\u001B[1m15/15\u001B[0m \u001B[32m━━━━━━━━━━━━━━━━━━━━\u001B[0m\u001B[37m\u001B[0m \u001B[1m0s\u001B[0m 1ms/step - accuracy: 0.9325 - loss: 0.2048 - val_accuracy: 0.7597 - val_loss: 0.8994\n",
      "Epoch 119/120\n",
      "\u001B[1m15/15\u001B[0m \u001B[32m━━━━━━━━━━━━━━━━━━━━\u001B[0m\u001B[37m\u001B[0m \u001B[1m0s\u001B[0m 1ms/step - accuracy: 0.8882 - loss: 0.2609 - val_accuracy: 0.7597 - val_loss: 0.9015\n",
      "Epoch 120/120\n",
      "\u001B[1m15/15\u001B[0m \u001B[32m━━━━━━━━━━━━━━━━━━━━\u001B[0m\u001B[37m\u001B[0m \u001B[1m0s\u001B[0m 1ms/step - accuracy: 0.8896 - loss: 0.2640 - val_accuracy: 0.7597 - val_loss: 0.8989\n"
     ]
    }
   ],
   "source": [
    "# train the model\n",
    "history = model.fit(X_train,y_train, epochs=120, batch_size=32, validation_split=0.25)"
   ]
  },
  {
   "cell_type": "markdown",
   "metadata": {},
   "source": [
    "Note that the call to` model.fit()` returns a `history` object. This `history` object contains a member `history`, which is a dictionary containing the loss and extra metrics it monitored during the training process. Let's have a look."
   ]
  },
  {
   "cell_type": "code",
   "execution_count": 25,
   "metadata": {
    "ExecuteTime": {
     "end_time": "2024-05-20T16:21:32.781742Z",
     "start_time": "2024-05-20T16:21:32.774316Z"
    }
   },
   "outputs": [
    {
     "data": {
      "text/plain": "dict_keys(['accuracy', 'loss', 'val_accuracy', 'val_loss'])"
     },
     "execution_count": 25,
     "metadata": {},
     "output_type": "execute_result"
    }
   ],
   "source": [
    "history.history.keys()"
   ]
  },
  {
   "cell_type": "markdown",
   "metadata": {},
   "source": [
    "If you use this dictionary to create a `panda` `DataFrame` and call its `plot()` method, you will get the four learning curves plotted in one figure. We will plot them in two separate figures, as follows."
   ]
  },
  {
   "cell_type": "code",
   "execution_count": 26,
   "metadata": {
    "ExecuteTime": {
     "end_time": "2024-05-20T16:21:34.174311Z",
     "start_time": "2024-05-20T16:21:34.056475Z"
    }
   },
   "outputs": [
    {
     "data": {
      "text/plain": "Text(0.5, 0, 'epoch')"
     },
     "execution_count": 26,
     "metadata": {},
     "output_type": "execute_result"
    },
    {
     "data": {
      "text/plain": "<Figure size 640x480 with 2 Axes>",
      "image/png": "[encoded data removed]"
     },
     "metadata": {},
     "output_type": "display_data"
    }
   ],
   "source": [
    "import matplotlib.pyplot as plt\n",
    "fig = plt.figure()\n",
    "fig.add_subplot(1,2,1)\n",
    "plt.plot(history.history['loss'], label='train loss')\n",
    "plt.plot(history.history['val_loss'], label='val loss')\n",
    "plt.legend()\n",
    "plt.grid(True)\n",
    "plt.xlim([0,120])\n",
    "plt.ylim([0,1.0])\n",
    "plt.xlabel('epoch')\n",
    "\n",
    "fig.add_subplot(1,2,2)\n",
    "plt.plot(history.history['accuracy'], label='train accuracy')\n",
    "plt.plot(history.history['val_accuracy'], label='val accuracy')\n",
    "plt.legend()\n",
    "plt.grid(True)\n",
    "plt.xlim([0,120])\n",
    "plt.ylim([0,1.0])\n",
    "plt.xlabel('epoch')"
   ]
  },
  {
   "cell_type": "markdown",
   "metadata": {},
   "source": [
    "You can see that both the training loss and validation loss decrease rapidly before 25 epochs. After that the gap between training loss and validation loss get larger, which means the model starts to overfit. In our later lectures, we will talk about what overfitting is, what causes overfitting and how to prevent overfitting when training deep learning models.\n",
    "\n",
    "In this particular case, the model looks like it performed better on the validation set than on the training set at the beginning of training. But that's not the case. Indeed, the validation loss is computed at the *end* of each epoch, while the training loss is computed *during* each epoch. So the training curve should be shifted by half an epoch to the left. If you do that, you will see the training and validation curves overlap almost perfectly at the beginning of training."
   ]
  },
  {
   "cell_type": "markdown",
   "metadata": {},
   "source": [
    "## 5. Evaluate the model\n",
    "Once you are satisfied with your model's validation accuracy, you may evaluate the performance on the test set to estimate how the model generalize to new data. You can easily do this using the `evaluate()` method. The first output of `evaluate()` method is the loss of the model, and the second is the accuracy of the model."
   ]
  },
  {
   "cell_type": "code",
   "execution_count": 22,
   "metadata": {
    "ExecuteTime": {
     "end_time": "2024-05-20T16:18:14.015545Z",
     "start_time": "2024-05-20T16:18:13.789593Z"
    }
   },
   "outputs": [
    {
     "name": "stdout",
     "output_type": "stream",
     "text": [
      "\u001B[1m5/5\u001B[0m \u001B[32m━━━━━━━━━━━━━━━━━━━━\u001B[0m\u001B[37m\u001B[0m \u001B[1m0s\u001B[0m 1ms/step - accuracy: 0.7402 - loss: 0.7404 \n",
      "Accuracy on the test set: 74.68\n"
     ]
    }
   ],
   "source": [
    "# evaluate the model on both the test set\n",
    "_,accuracy = model.evaluate(X_test,y_test)\n",
    "print('Accuracy on the test set: %.2f' % (accuracy*100))"
   ]
  },
  {
   "cell_type": "markdown",
   "metadata": {},
   "source": [
    "You could also use the `predict()` method to make predictions on new instances. The `predict()` outputs the likelihood of the diabetes. You need get the output class (0 or 1) by thresholding the probability with 0.5."
   ]
  },
  {
   "cell_type": "code",
   "execution_count": 23,
   "metadata": {
    "ExecuteTime": {
     "end_time": "2024-05-20T16:18:36.316872Z",
     "start_time": "2024-05-20T16:18:36.140380Z"
    }
   },
   "outputs": [
    {
     "name": "stdout",
     "output_type": "stream",
     "text": [
      "\u001B[1m5/5\u001B[0m \u001B[32m━━━━━━━━━━━━━━━━━━━━\u001B[0m\u001B[37m\u001B[0m \u001B[1m0s\u001B[0m 6ms/step \n",
      "[-0.8354354969841159, 2.4573590260372544, 0.3467431597703783, 1.395074009537141, -0.6996567372359569, 1.3522451320376854, 2.7859441674361074, -0.9656918919706847] => 1 (expected 1)\n",
      "[-0.5448080776366672, -0.4371963301807877, 0.24436263555830212, 0.5845724632728235, 0.15216202200991355, 0.17619533491603961, -0.18763809923801414, -0.8824028314748286] => 0 (expected 0)\n",
      "[0.03644676105823054, -1.4125356349933886, -0.36992050971415463, -1.2858157204140634, -0.6996567372359569, 0.22677812188901347, -0.2266851391034319, -0.715824710483116] => 0 (expected 0)\n",
      "[0.32707418040567937, 1.4190946047851305, 0.141982111346226, -0.10123653741236842, 0.7910260914443162, -0.810169011056954, 0.3620240773290205, 1.4496908624091454] => 0 (expected 1)\n",
      "[-1.1260629163315647, -0.31134609730174234, -0.21634972339604044, -1.2858157204140634, -0.6996567372359569, -0.961917371975876, 0.5812882242655973, -0.21609034750797876] => 0 (expected 0)\n",
      "[-0.8354354969841159, -1.255222843894582, 0.141982111346226, -0.16358281020193133, -0.35892923353760864, -0.7090034371110059, -0.551075931831518, -0.7991137709789723] => 0 (expected 0)\n",
      "[1.4895838577954748, 0.9786187897084719, 0.4491236839824544, 0.8339575544310751, 0.7569533410744815, 0.2520695153755008, 1.281131323391931, -0.04951222651626632] => 1 (expected 1)\n",
      "[-0.25418065828921826, 1.7337201869827439, 0.8586457808307588, 0.3975336449041348, 0.6291805271876009, 0.13825824468630857, 2.065075739151472, 1.5329799229050018] => 0 (expected 1)\n",
      "[-0.5448080776366672, 0.19205483421443884, -0.5746815581383069, 0.21049482653544604, 1.6428448506901867, -0.5699007729353276, 3.404689568380421, -0.715824710483116] => 0 (expected 0)\n",
      "[0.6177015997531281, -0.563046563059833, 0.141982111346226, 0.7092650088519493, 0.9187989053311968, 0.6946689013890236, -0.4279275753328927, 1.7828471043925704] => 0 (expected 0)\n"
     ]
    },
    {
     "name": "stderr",
     "output_type": "stream",
     "text": [
      "/var/folders/68/b1jrmnk55g7bftx2v_fbqwxc0000gn/T/ipykernel_8142/2183802255.py:3: DeprecationWarning: Conversion of an array with ndim > 0 to a scalar is deprecated, and will error in future. Ensure you extract a single element from your array before performing this operation. (Deprecated NumPy 1.25.)\n",
      "  print('%s => %d (expected %d)' % ((X_test[i]).tolist(), y_predict[i], y_test[i]))\n"
     ]
    }
   ],
   "source": [
    "y_predict = (model.predict(X_test) > 0.5).astype(\"int32\")\n",
    "for i in range(10):\n",
    "    print('%s => %d (expected %d)' % ((X_test[i]).tolist(), y_predict[i], y_test[i]))"
   ]
  },
  {
   "cell_type": "code",
   "execution_count": null,
   "outputs": [],
   "source": [],
   "metadata": {
    "collapsed": false
   }
  }
 ],
 "metadata": {
  "kernelspec": {
   "display_name": "Python 3 (ipykernel)",
   "language": "python",
   "name": "python3"
  },
  "language_info": {
   "codemirror_mode": {
    "name": "ipython",
    "version": 3
   },
   "file_extension": ".py",
   "mimetype": "text/x-python",
   "name": "python",
   "nbconvert_exporter": "python",
   "pygments_lexer": "ipython3",
   "version": "3.9.1"
  }
 },
 "nbformat": 4,
 "nbformat_minor": 4
}
