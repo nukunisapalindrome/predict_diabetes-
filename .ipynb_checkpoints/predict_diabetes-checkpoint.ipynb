{
 "cells": [
  {
   "cell_type": "markdown",
   "metadata": {},
   "source": [
    "# First Neural Network with Keras\n",
    "In this tutorial, you will build your first **multilayer perceptron (MLP)** model (also your first neural network) in Python with Keras. As you will see, Keras is a easy-to-use deep API that allows you to easily build, train, evaluate and execute deep learning models. "
   ]
  },
  {
   "cell_type": "markdown",
   "metadata": {},
   "source": [
    "## 1. Load the dataset\n",
    "In this tutorial, we are going to use Pima Indians Diabetes dataset which is a standard machine learning dataset from the UCI Machine Learning repository. The dataset can be downloaded from <a href=\"https://raw.githubusercontent.com/jbrownlee/Datasets/master/pima-indians-diabetes.data.csv\" target=\"_blank\">here</a>. Place it in the same location as this notebook file.\n",
    "\n",
    "This is a comparably small dataset, with 768 samples in total. There are eight input features (X) and one output variable (y).\n",
    "\n",
    "Input features (X):\n",
    "\n",
    "1. Number of times pregnant\n",
    "2. Plasma glucose concentration a 2 hours in an oral glucose tolerance test\n",
    "3. Diastolic blood pressure (mm Hg)\n",
    "4. Triceps skin fold thickness (mm)\n",
    "5. 2-Hour serum insulin (mu U/ml)\n",
    "6. Body mass index (weight in kg/(height in m)^2)\n",
    "7. Diabetes pedigree function\n",
    "8. Age (years)\n",
    "\n",
    "Output Variables (y):\n",
    "\n",
    "1. Class label (1 for diabetes, 0 for not)\n",
    "\n",
    "First we need import all necessory libraries which we will need to work upon."
   ]
  },
  {
   "cell_type": "code",
   "execution_count": null,
   "metadata": {
    "ExecuteTime": {
     "start_time": "2024-05-14T14:55:47.833267Z"
    },
    "is_executing": true
   },
   "outputs": [],
   "source": [
    "from numpy import loadtxt\n",
    "from tensorflow.keras.models import Sequential\n",
    "from tensorflow.keras.layers import Dense\n",
    "from sklearn.model_selection import train_test_split"
   ]
  },
  {
   "cell_type": "markdown",
   "metadata": {},
   "source": [
    "Here we use `numpy` function `loadtxt` to load the CSV file. In the file, each row corresponds to one example, with nine columns. We can then split them into the input features (X) and output labels (y)."
   ]
  },
  {
   "cell_type": "code",
   "execution_count": 1,
   "metadata": {},
   "outputs": [
    {
     "ename": "NameError",
     "evalue": "name 'loadtxt' is not defined",
     "output_type": "error",
     "traceback": [
      "\u001b[0;31m---------------------------------------------------------------------------\u001b[0m",
      "\u001b[0;31mNameError\u001b[0m                                 Traceback (most recent call last)",
      "Cell \u001b[0;32mIn[1], line 2\u001b[0m\n\u001b[1;32m      1\u001b[0m \u001b[38;5;66;03m# load the dataset\u001b[39;00m\n\u001b[0;32m----> 2\u001b[0m dataset \u001b[38;5;241m=\u001b[39m \u001b[43mloadtxt\u001b[49m(\u001b[38;5;124m'\u001b[39m\u001b[38;5;124mpima-indians-diabetes.csv\u001b[39m\u001b[38;5;124m'\u001b[39m,delimiter\u001b[38;5;241m=\u001b[39m\u001b[38;5;124m'\u001b[39m\u001b[38;5;124m,\u001b[39m\u001b[38;5;124m'\u001b[39m)\n\u001b[1;32m      3\u001b[0m \u001b[38;5;66;03m# split into input X and output y variables\u001b[39;00m\n\u001b[1;32m      4\u001b[0m X \u001b[38;5;241m=\u001b[39m dataset[:,\u001b[38;5;241m0\u001b[39m:\u001b[38;5;241m8\u001b[39m]\n",
      "\u001b[0;31mNameError\u001b[0m: name 'loadtxt' is not defined"
     ]
    }
   ],
   "source": [
    "# load the dataset\n",
    "dataset = loadtxt('pima-indians-diabetes.csv',delimiter=',')\n",
    "# split into input X and output y variables\n",
    "X = dataset[:,0:8]\n",
    "y = dataset[:,8]"
   ]
  },
  {
   "cell_type": "markdown",
   "metadata": {},
   "source": [
    "Let's print the dimension of X. You may also want to have a look of a few samples."
   ]
  },
  {
   "cell_type": "code",
   "execution_count": 2,
   "metadata": {},
   "outputs": [
    {
     "ename": "NameError",
     "evalue": "name 'X' is not defined",
     "output_type": "error",
     "traceback": [
      "\u001b[0;31m---------------------------------------------------------------------------\u001b[0m",
      "\u001b[0;31mNameError\u001b[0m                                 Traceback (most recent call last)",
      "Cell \u001b[0;32mIn[2], line 1\u001b[0m\n\u001b[0;32m----> 1\u001b[0m \u001b[38;5;28mprint\u001b[39m(\u001b[43mX\u001b[49m\u001b[38;5;241m.\u001b[39mshape)\n\u001b[1;32m      2\u001b[0m \u001b[38;5;28;01mfor\u001b[39;00m i \u001b[38;5;129;01min\u001b[39;00m \u001b[38;5;28mrange\u001b[39m(\u001b[38;5;241m5\u001b[39m):\n\u001b[1;32m      3\u001b[0m     \u001b[38;5;28mprint\u001b[39m(dataset[i])\n",
      "\u001b[0;31mNameError\u001b[0m: name 'X' is not defined"
     ]
    }
   ],
   "source": [
    "print(X.shape)\n",
    "for i in range(5):\n",
    "    print(dataset[i])"
   ]
  },
  {
   "cell_type": "markdown",
   "metadata": {},
   "source": [
    "Let's split them into training set and test set by using the `train_test_split( )` method from `sklearn`. `test_size = 0.2` means 20% examples are used for test. \n",
    "\n",
    "You must **treat the test set as unseen data**, which means any model adjustment must be done only on the training set. "
   ]
  },
  {
   "cell_type": "code",
   "execution_count": 3,
   "metadata": {},
   "outputs": [
    {
     "ename": "NameError",
     "evalue": "name 'train_test_split' is not defined",
     "output_type": "error",
     "traceback": [
      "\u001b[0;31m---------------------------------------------------------------------------\u001b[0m",
      "\u001b[0;31mNameError\u001b[0m                                 Traceback (most recent call last)",
      "Cell \u001b[0;32mIn[3], line 1\u001b[0m\n\u001b[0;32m----> 1\u001b[0m X_train, X_test, y_train, y_test \u001b[38;5;241m=\u001b[39m \u001b[43mtrain_test_split\u001b[49m(X, y, test_size\u001b[38;5;241m=\u001b[39m\u001b[38;5;241m0.2\u001b[39m, random_state\u001b[38;5;241m=\u001b[39m\u001b[38;5;241m0\u001b[39m)\n",
      "\u001b[0;31mNameError\u001b[0m: name 'train_test_split' is not defined"
     ]
    }
   ],
   "source": [
    "X_train, X_test, y_train, y_test = train_test_split(X, y, test_size=0.2, random_state=0)"
   ]
  },
  {
   "cell_type": "markdown",
   "metadata": {},
   "source": [
    "## 2. Prepare the data\n",
    "Usually there is a pre-processing step before building the model. What pre-processing should be carried out depends on the data and any requirement for the model. For this dataset, the eight features are in variant ranges and scales, which may lead to unstable weight learning. In this case, the common practice is to standardize the input data, to make each feature to be mean 0 and unit variance. The network would then be trained on a more stable distribution of inputs."
   ]
  },
  {
   "cell_type": "code",
   "execution_count": 5,
   "metadata": {},
   "outputs": [],
   "source": [
    "mean_train = X_train.mean(axis=0)\n",
    "std_train = X_train.std(axis=0)\n",
    "X_train = (X_train-mean_train)/std_train\n",
    "X_test = (X_test-mean_train)/std_train # Apply the same transformation on the testing set "
   ]
  },
  {
   "cell_type": "markdown",
   "metadata": {},
   "source": [
    "## 3. Build your network\n",
    "Now we are ready to build our neural network. In Keras, we first create a `sequential` model, then add layers one by one. \n",
    "\n",
    "As there are only 8 input features in this dataset, we may consider to build a small-size MLP: three fully connected layers (or `Dense` layers). For each `Dense` layer, we specify the number of neurons in the layer as the first argument, and specify the activation function using the `activation` argument. For the first `Dense` layer, we also need give the input feature dimension (`input_dim=8`).\n",
    "\n",
    "We use the Rectified Linear Unit (ReLU) activation function for the 2 hidden layers, as ReLU usually produces better performance compared to the Sigmoid or Tanh functions. We use a sigmoid on the output layer to ensure the network output is between 0 and 1 and easy to map to either a probability of class 1 or snap to a hard classification of either class with a default threshold of 0.5.\n",
    "\n",
    "Now lets's interprete the following code as follows.\n",
    "\n",
    "1. The model expects the input data containing 8 features (or columns).\n",
    "2. We add the first hidden layer with 12 neurons and use the ReLU activation fuction.\n",
    "3. We add the second hidden layer with 6 neurons and use the ReLu activation function.\n",
    "4. Finally, we add the output layer with 1 neuron and use the sigmoid activation function."
   ]
  },
  {
   "cell_type": "code",
   "execution_count": 6,
   "metadata": {},
   "outputs": [],
   "source": [
    "# define a keras model of a MLP network with three Dense layers\n",
    "model = Sequential()\n",
    "model.add(Dense(12, input_dim=8, activation = 'relu'))\n",
    "model.add(Dense(6,activation='relu'))\n",
    "model.add(Dense(1,activation='sigmoid'))"
   ]
  },
  {
   "cell_type": "markdown",
   "metadata": {},
   "source": [
    "You can use the `summary()` method to display all the model's layers. "
   ]
  },
  {
   "cell_type": "code",
   "execution_count": 7,
   "metadata": {},
   "outputs": [
    {
     "name": "stdout",
     "output_type": "stream",
     "text": [
      "Model: \"sequential\"\n",
      "_________________________________________________________________\n",
      "Layer (type)                 Output Shape              Param #   \n",
      "=================================================================\n",
      "dense (Dense)                (None, 12)                108       \n",
      "_________________________________________________________________\n",
      "dense_1 (Dense)              (None, 6)                 78        \n",
      "_________________________________________________________________\n",
      "dense_2 (Dense)              (None, 1)                 7         \n",
      "=================================================================\n",
      "Total params: 193\n",
      "Trainable params: 193\n",
      "Non-trainable params: 0\n",
      "_________________________________________________________________\n"
     ]
    }
   ],
   "source": [
    "model.summary()"
   ]
  },
  {
   "cell_type": "markdown",
   "metadata": {},
   "source": [
    "Dense layers often have a lot of parameters. Even we build such a small MLP, there are 193 parameters in total. Let's see how the numbers are calculated. For example, the first hidden layer has 8 x 12 connection weights, plus 8 bias terms, which adds up to 108 parameters. "
   ]
  },
  {
   "cell_type": "markdown",
   "metadata": {},
   "source": [
    "## 3. Compile the model\n",
    "After the model is created, you must call the `compile()` method to specify the `loss` function and the `optimizer` to use. Optionally, you can specify a list of extra `metrics` to compute and report during training and evaluation.\n",
    "\n",
    "Regarding the binary classification problem, the typical loss function is `binary_crossentropy` defined in Keras. \n",
    "\n",
    "We choose the efficient stochastic gradient descent algorithm `adam` as the optimizer. It is a popular choice as it adaptively chooses the learning rate and gives good results in a wide range of problems. \n",
    "\n",
    "Since it is a classification problem, it is more intuitive to measure and report the classification `accuracy`, defined via the `metrics` argument. "
   ]
  },
  {
   "cell_type": "code",
   "execution_count": 8,
   "metadata": {},
   "outputs": [],
   "source": [
    "# compile the model\n",
    "model.compile(loss='binary_crossentropy', optimizer='adam',metrics=['accuracy'])"
   ]
  },
  {
   "cell_type": "markdown",
   "metadata": {},
   "source": [
    "## 4. Train and validate the model\n",
    "Now the model is ready to be trained. For this we simply call its `fit()` method. We'll train the model for 120 epochs (120 itrations over all samples in the training set), in mini-batches of 32 samples. (If you don't know what mini-batch means, don't worry, we will talk about it in our later lectures.)\n",
    "\n",
    "We also split 25% examples in the training set as a validation set (this is optional). Keras will measure the loss and the accuracy on this validation set at the end of each epoch, which is very useful to see how well the model performs. Based on the performance on the validation set, we could modify the model and tune the hyperparameters accordingly."
   ]
  },
  {
   "cell_type": "code",
   "execution_count": 9,
   "metadata": {},
   "outputs": [
    {
     "name": "stdout",
     "output_type": "stream",
     "text": [
      "Epoch 1/120\n",
      "15/15 [==============================] - 0s 8ms/step - loss: 0.6377 - accuracy: 0.7000 - val_loss: 0.6184 - val_accuracy: 0.7143\n",
      "Epoch 2/120\n",
      "15/15 [==============================] - 0s 2ms/step - loss: 0.6217 - accuracy: 0.7130 - val_loss: 0.6038 - val_accuracy: 0.7273\n",
      "Epoch 3/120\n",
      "15/15 [==============================] - 0s 2ms/step - loss: 0.6095 - accuracy: 0.7043 - val_loss: 0.5902 - val_accuracy: 0.7273\n",
      "Epoch 4/120\n",
      "15/15 [==============================] - 0s 2ms/step - loss: 0.5980 - accuracy: 0.6978 - val_loss: 0.5777 - val_accuracy: 0.7338\n",
      "Epoch 5/120\n",
      "15/15 [==============================] - 0s 2ms/step - loss: 0.5865 - accuracy: 0.7087 - val_loss: 0.5673 - val_accuracy: 0.7208\n",
      "Epoch 6/120\n",
      "15/15 [==============================] - 0s 2ms/step - loss: 0.5762 - accuracy: 0.7196 - val_loss: 0.5583 - val_accuracy: 0.7208\n",
      "Epoch 7/120\n",
      "15/15 [==============================] - 0s 2ms/step - loss: 0.5657 - accuracy: 0.7391 - val_loss: 0.5491 - val_accuracy: 0.7143\n",
      "Epoch 8/120\n",
      "15/15 [==============================] - 0s 2ms/step - loss: 0.5559 - accuracy: 0.7478 - val_loss: 0.5407 - val_accuracy: 0.7143\n",
      "Epoch 9/120\n",
      "15/15 [==============================] - 0s 2ms/step - loss: 0.5455 - accuracy: 0.7609 - val_loss: 0.5317 - val_accuracy: 0.7143\n",
      "Epoch 10/120\n",
      "15/15 [==============================] - 0s 2ms/step - loss: 0.5358 - accuracy: 0.7674 - val_loss: 0.5245 - val_accuracy: 0.7013\n",
      "Epoch 11/120\n",
      "15/15 [==============================] - 0s 2ms/step - loss: 0.5270 - accuracy: 0.7674 - val_loss: 0.5192 - val_accuracy: 0.7143\n",
      "Epoch 12/120\n",
      "15/15 [==============================] - 0s 2ms/step - loss: 0.5192 - accuracy: 0.7761 - val_loss: 0.5137 - val_accuracy: 0.7143\n",
      "Epoch 13/120\n",
      "15/15 [==============================] - 0s 2ms/step - loss: 0.5119 - accuracy: 0.7761 - val_loss: 0.5101 - val_accuracy: 0.7143\n",
      "Epoch 14/120\n",
      "15/15 [==============================] - 0s 2ms/step - loss: 0.5055 - accuracy: 0.7804 - val_loss: 0.5071 - val_accuracy: 0.7208\n",
      "Epoch 15/120\n",
      "15/15 [==============================] - 0s 2ms/step - loss: 0.4999 - accuracy: 0.7848 - val_loss: 0.5042 - val_accuracy: 0.7208\n",
      "Epoch 16/120\n",
      "15/15 [==============================] - 0s 2ms/step - loss: 0.4939 - accuracy: 0.7891 - val_loss: 0.5023 - val_accuracy: 0.7208\n",
      "Epoch 17/120\n",
      "15/15 [==============================] - 0s 2ms/step - loss: 0.4891 - accuracy: 0.7891 - val_loss: 0.5006 - val_accuracy: 0.7208\n",
      "Epoch 18/120\n",
      "15/15 [==============================] - 0s 2ms/step - loss: 0.4844 - accuracy: 0.7913 - val_loss: 0.4996 - val_accuracy: 0.7208\n",
      "Epoch 19/120\n",
      "15/15 [==============================] - 0s 2ms/step - loss: 0.4805 - accuracy: 0.7891 - val_loss: 0.4986 - val_accuracy: 0.7273\n",
      "Epoch 20/120\n",
      "15/15 [==============================] - 0s 2ms/step - loss: 0.4771 - accuracy: 0.7826 - val_loss: 0.4974 - val_accuracy: 0.7273\n",
      "Epoch 21/120\n",
      "15/15 [==============================] - 0s 2ms/step - loss: 0.4741 - accuracy: 0.7848 - val_loss: 0.4976 - val_accuracy: 0.7273\n",
      "Epoch 22/120\n",
      "15/15 [==============================] - 0s 2ms/step - loss: 0.4706 - accuracy: 0.7826 - val_loss: 0.4962 - val_accuracy: 0.7273\n",
      "Epoch 23/120\n",
      "15/15 [==============================] - 0s 2ms/step - loss: 0.4684 - accuracy: 0.7870 - val_loss: 0.4961 - val_accuracy: 0.7273\n",
      "Epoch 24/120\n",
      "15/15 [==============================] - 0s 2ms/step - loss: 0.4657 - accuracy: 0.7870 - val_loss: 0.4954 - val_accuracy: 0.7273\n",
      "Epoch 25/120\n",
      "15/15 [==============================] - 0s 2ms/step - loss: 0.4636 - accuracy: 0.7913 - val_loss: 0.4951 - val_accuracy: 0.7273\n",
      "Epoch 26/120\n",
      "15/15 [==============================] - 0s 2ms/step - loss: 0.4616 - accuracy: 0.7913 - val_loss: 0.4960 - val_accuracy: 0.7273\n",
      "Epoch 27/120\n",
      "15/15 [==============================] - 0s 2ms/step - loss: 0.4595 - accuracy: 0.7848 - val_loss: 0.4964 - val_accuracy: 0.7273\n",
      "Epoch 28/120\n",
      "15/15 [==============================] - 0s 2ms/step - loss: 0.4579 - accuracy: 0.7848 - val_loss: 0.4970 - val_accuracy: 0.7273\n",
      "Epoch 29/120\n",
      "15/15 [==============================] - 0s 2ms/step - loss: 0.4566 - accuracy: 0.7804 - val_loss: 0.4968 - val_accuracy: 0.7208\n",
      "Epoch 30/120\n",
      "15/15 [==============================] - 0s 2ms/step - loss: 0.4552 - accuracy: 0.7826 - val_loss: 0.4979 - val_accuracy: 0.7273\n",
      "Epoch 31/120\n",
      "15/15 [==============================] - 0s 2ms/step - loss: 0.4534 - accuracy: 0.7870 - val_loss: 0.4978 - val_accuracy: 0.7208\n",
      "Epoch 32/120\n",
      "15/15 [==============================] - 0s 2ms/step - loss: 0.4525 - accuracy: 0.7870 - val_loss: 0.4990 - val_accuracy: 0.7208\n",
      "Epoch 33/120\n",
      "15/15 [==============================] - 0s 2ms/step - loss: 0.4509 - accuracy: 0.7848 - val_loss: 0.4990 - val_accuracy: 0.7208\n",
      "Epoch 34/120\n",
      "15/15 [==============================] - 0s 2ms/step - loss: 0.4497 - accuracy: 0.7870 - val_loss: 0.4993 - val_accuracy: 0.7208\n",
      "Epoch 35/120\n",
      "15/15 [==============================] - 0s 2ms/step - loss: 0.4486 - accuracy: 0.7848 - val_loss: 0.5004 - val_accuracy: 0.7208\n",
      "Epoch 36/120\n",
      "15/15 [==============================] - 0s 2ms/step - loss: 0.4473 - accuracy: 0.7848 - val_loss: 0.5007 - val_accuracy: 0.7208\n",
      "Epoch 37/120\n",
      "15/15 [==============================] - 0s 2ms/step - loss: 0.4464 - accuracy: 0.7826 - val_loss: 0.5018 - val_accuracy: 0.7208\n",
      "Epoch 38/120\n",
      "15/15 [==============================] - 0s 2ms/step - loss: 0.4456 - accuracy: 0.7826 - val_loss: 0.5021 - val_accuracy: 0.7208\n",
      "Epoch 39/120\n",
      "15/15 [==============================] - 0s 2ms/step - loss: 0.4444 - accuracy: 0.7848 - val_loss: 0.5040 - val_accuracy: 0.7208\n",
      "Epoch 40/120\n",
      "15/15 [==============================] - 0s 2ms/step - loss: 0.4433 - accuracy: 0.7826 - val_loss: 0.5051 - val_accuracy: 0.7208\n",
      "Epoch 41/120\n",
      "15/15 [==============================] - 0s 2ms/step - loss: 0.4426 - accuracy: 0.7826 - val_loss: 0.5066 - val_accuracy: 0.7208\n",
      "Epoch 42/120\n",
      "15/15 [==============================] - 0s 2ms/step - loss: 0.4413 - accuracy: 0.7826 - val_loss: 0.5065 - val_accuracy: 0.7273\n",
      "Epoch 43/120\n",
      "15/15 [==============================] - 0s 2ms/step - loss: 0.4405 - accuracy: 0.7848 - val_loss: 0.5073 - val_accuracy: 0.7208\n",
      "Epoch 44/120\n",
      "15/15 [==============================] - 0s 2ms/step - loss: 0.4397 - accuracy: 0.7826 - val_loss: 0.5089 - val_accuracy: 0.7208\n",
      "Epoch 45/120\n",
      "15/15 [==============================] - 0s 2ms/step - loss: 0.4386 - accuracy: 0.7848 - val_loss: 0.5087 - val_accuracy: 0.7208\n",
      "Epoch 46/120\n",
      "15/15 [==============================] - 0s 2ms/step - loss: 0.4378 - accuracy: 0.7870 - val_loss: 0.5088 - val_accuracy: 0.7208\n",
      "Epoch 47/120\n",
      "15/15 [==============================] - 0s 2ms/step - loss: 0.4371 - accuracy: 0.7870 - val_loss: 0.5102 - val_accuracy: 0.7208\n",
      "Epoch 48/120\n",
      "15/15 [==============================] - 0s 2ms/step - loss: 0.4361 - accuracy: 0.7870 - val_loss: 0.5136 - val_accuracy: 0.7338\n",
      "Epoch 49/120\n",
      "15/15 [==============================] - 0s 2ms/step - loss: 0.4356 - accuracy: 0.7891 - val_loss: 0.5145 - val_accuracy: 0.7338\n",
      "Epoch 50/120\n",
      "15/15 [==============================] - 0s 2ms/step - loss: 0.4349 - accuracy: 0.7913 - val_loss: 0.5142 - val_accuracy: 0.7403\n",
      "Epoch 51/120\n",
      "15/15 [==============================] - 0s 2ms/step - loss: 0.4341 - accuracy: 0.7935 - val_loss: 0.5125 - val_accuracy: 0.7338\n",
      "Epoch 52/120\n",
      "15/15 [==============================] - 0s 2ms/step - loss: 0.4333 - accuracy: 0.7935 - val_loss: 0.5151 - val_accuracy: 0.7338\n",
      "Epoch 53/120\n",
      "15/15 [==============================] - 0s 2ms/step - loss: 0.4326 - accuracy: 0.7935 - val_loss: 0.5162 - val_accuracy: 0.7338\n",
      "Epoch 54/120\n",
      "15/15 [==============================] - 0s 2ms/step - loss: 0.4317 - accuracy: 0.7935 - val_loss: 0.5179 - val_accuracy: 0.7338\n",
      "Epoch 55/120\n",
      "15/15 [==============================] - 0s 2ms/step - loss: 0.4311 - accuracy: 0.7913 - val_loss: 0.5193 - val_accuracy: 0.7468\n",
      "Epoch 56/120\n",
      "15/15 [==============================] - 0s 2ms/step - loss: 0.4306 - accuracy: 0.7891 - val_loss: 0.5195 - val_accuracy: 0.7403\n",
      "Epoch 57/120\n",
      "15/15 [==============================] - 0s 2ms/step - loss: 0.4304 - accuracy: 0.7935 - val_loss: 0.5210 - val_accuracy: 0.7338\n",
      "Epoch 58/120\n",
      "15/15 [==============================] - 0s 2ms/step - loss: 0.4295 - accuracy: 0.7913 - val_loss: 0.5203 - val_accuracy: 0.7403\n"
     ]
    },
    {
     "name": "stdout",
     "output_type": "stream",
     "text": [
      "Epoch 59/120\n",
      "15/15 [==============================] - 0s 2ms/step - loss: 0.4286 - accuracy: 0.7913 - val_loss: 0.5224 - val_accuracy: 0.7468\n",
      "Epoch 60/120\n",
      "15/15 [==============================] - 0s 2ms/step - loss: 0.4281 - accuracy: 0.7848 - val_loss: 0.5229 - val_accuracy: 0.7468\n",
      "Epoch 61/120\n",
      "15/15 [==============================] - 0s 2ms/step - loss: 0.4273 - accuracy: 0.7891 - val_loss: 0.5227 - val_accuracy: 0.7468\n",
      "Epoch 62/120\n",
      "15/15 [==============================] - 0s 2ms/step - loss: 0.4265 - accuracy: 0.7913 - val_loss: 0.5233 - val_accuracy: 0.7468\n",
      "Epoch 63/120\n",
      "15/15 [==============================] - 0s 2ms/step - loss: 0.4259 - accuracy: 0.7935 - val_loss: 0.5252 - val_accuracy: 0.7403\n",
      "Epoch 64/120\n",
      "15/15 [==============================] - 0s 2ms/step - loss: 0.4254 - accuracy: 0.7935 - val_loss: 0.5250 - val_accuracy: 0.7468\n",
      "Epoch 65/120\n",
      "15/15 [==============================] - 0s 2ms/step - loss: 0.4246 - accuracy: 0.7913 - val_loss: 0.5267 - val_accuracy: 0.7468\n",
      "Epoch 66/120\n",
      "15/15 [==============================] - 0s 2ms/step - loss: 0.4239 - accuracy: 0.7935 - val_loss: 0.5270 - val_accuracy: 0.7468\n",
      "Epoch 67/120\n",
      "15/15 [==============================] - 0s 2ms/step - loss: 0.4239 - accuracy: 0.7935 - val_loss: 0.5287 - val_accuracy: 0.7468\n",
      "Epoch 68/120\n",
      "15/15 [==============================] - 0s 2ms/step - loss: 0.4227 - accuracy: 0.7913 - val_loss: 0.5285 - val_accuracy: 0.7403\n",
      "Epoch 69/120\n",
      "15/15 [==============================] - 0s 2ms/step - loss: 0.4225 - accuracy: 0.7848 - val_loss: 0.5310 - val_accuracy: 0.7403\n",
      "Epoch 70/120\n",
      "15/15 [==============================] - 0s 2ms/step - loss: 0.4215 - accuracy: 0.7848 - val_loss: 0.5292 - val_accuracy: 0.7468\n",
      "Epoch 71/120\n",
      "15/15 [==============================] - 0s 2ms/step - loss: 0.4209 - accuracy: 0.7935 - val_loss: 0.5286 - val_accuracy: 0.7468\n",
      "Epoch 72/120\n",
      "15/15 [==============================] - 0s 2ms/step - loss: 0.4197 - accuracy: 0.7891 - val_loss: 0.5314 - val_accuracy: 0.7468\n",
      "Epoch 73/120\n",
      "15/15 [==============================] - 0s 2ms/step - loss: 0.4189 - accuracy: 0.7913 - val_loss: 0.5323 - val_accuracy: 0.7468\n",
      "Epoch 74/120\n",
      "15/15 [==============================] - 0s 2ms/step - loss: 0.4187 - accuracy: 0.7870 - val_loss: 0.5333 - val_accuracy: 0.7468\n",
      "Epoch 75/120\n",
      "15/15 [==============================] - 0s 2ms/step - loss: 0.4176 - accuracy: 0.7870 - val_loss: 0.5340 - val_accuracy: 0.7468\n",
      "Epoch 76/120\n",
      "15/15 [==============================] - 0s 2ms/step - loss: 0.4169 - accuracy: 0.7870 - val_loss: 0.5337 - val_accuracy: 0.7403\n",
      "Epoch 77/120\n",
      "15/15 [==============================] - 0s 2ms/step - loss: 0.4160 - accuracy: 0.7913 - val_loss: 0.5351 - val_accuracy: 0.7468\n",
      "Epoch 78/120\n",
      "15/15 [==============================] - 0s 2ms/step - loss: 0.4153 - accuracy: 0.7935 - val_loss: 0.5359 - val_accuracy: 0.7403\n",
      "Epoch 79/120\n",
      "15/15 [==============================] - 0s 2ms/step - loss: 0.4151 - accuracy: 0.7913 - val_loss: 0.5374 - val_accuracy: 0.7403\n",
      "Epoch 80/120\n",
      "15/15 [==============================] - 0s 2ms/step - loss: 0.4140 - accuracy: 0.7957 - val_loss: 0.5354 - val_accuracy: 0.7468\n",
      "Epoch 81/120\n",
      "15/15 [==============================] - 0s 2ms/step - loss: 0.4137 - accuracy: 0.7957 - val_loss: 0.5352 - val_accuracy: 0.7468\n",
      "Epoch 82/120\n",
      "15/15 [==============================] - 0s 2ms/step - loss: 0.4132 - accuracy: 0.7957 - val_loss: 0.5337 - val_accuracy: 0.7468\n",
      "Epoch 83/120\n",
      "15/15 [==============================] - 0s 2ms/step - loss: 0.4126 - accuracy: 0.7957 - val_loss: 0.5362 - val_accuracy: 0.7468\n",
      "Epoch 84/120\n",
      "15/15 [==============================] - 0s 2ms/step - loss: 0.4113 - accuracy: 0.7935 - val_loss: 0.5365 - val_accuracy: 0.7468\n",
      "Epoch 85/120\n",
      "15/15 [==============================] - 0s 2ms/step - loss: 0.4106 - accuracy: 0.7957 - val_loss: 0.5373 - val_accuracy: 0.7468\n",
      "Epoch 86/120\n",
      "15/15 [==============================] - 0s 2ms/step - loss: 0.4102 - accuracy: 0.7957 - val_loss: 0.5398 - val_accuracy: 0.7468\n",
      "Epoch 87/120\n",
      "15/15 [==============================] - 0s 2ms/step - loss: 0.4101 - accuracy: 0.7978 - val_loss: 0.5378 - val_accuracy: 0.7468\n",
      "Epoch 88/120\n",
      "15/15 [==============================] - 0s 2ms/step - loss: 0.4089 - accuracy: 0.7978 - val_loss: 0.5388 - val_accuracy: 0.7468\n",
      "Epoch 89/120\n",
      "15/15 [==============================] - 0s 2ms/step - loss: 0.4084 - accuracy: 0.7957 - val_loss: 0.5405 - val_accuracy: 0.7468\n",
      "Epoch 90/120\n",
      "15/15 [==============================] - 0s 2ms/step - loss: 0.4084 - accuracy: 0.7891 - val_loss: 0.5420 - val_accuracy: 0.7403\n",
      "Epoch 91/120\n",
      "15/15 [==============================] - 0s 2ms/step - loss: 0.4070 - accuracy: 0.7978 - val_loss: 0.5373 - val_accuracy: 0.7468\n",
      "Epoch 92/120\n",
      "15/15 [==============================] - 0s 2ms/step - loss: 0.4071 - accuracy: 0.8000 - val_loss: 0.5390 - val_accuracy: 0.7468\n",
      "Epoch 93/120\n",
      "15/15 [==============================] - 0s 2ms/step - loss: 0.4059 - accuracy: 0.7978 - val_loss: 0.5400 - val_accuracy: 0.7468\n",
      "Epoch 94/120\n",
      "15/15 [==============================] - 0s 2ms/step - loss: 0.4052 - accuracy: 0.8022 - val_loss: 0.5412 - val_accuracy: 0.7468\n",
      "Epoch 95/120\n",
      "15/15 [==============================] - 0s 2ms/step - loss: 0.4048 - accuracy: 0.8000 - val_loss: 0.5434 - val_accuracy: 0.7532\n",
      "Epoch 96/120\n",
      "15/15 [==============================] - 0s 2ms/step - loss: 0.4043 - accuracy: 0.7935 - val_loss: 0.5444 - val_accuracy: 0.7468\n",
      "Epoch 97/120\n",
      "15/15 [==============================] - 0s 2ms/step - loss: 0.4043 - accuracy: 0.7913 - val_loss: 0.5451 - val_accuracy: 0.7468\n",
      "Epoch 98/120\n",
      "15/15 [==============================] - 0s 2ms/step - loss: 0.4030 - accuracy: 0.7978 - val_loss: 0.5444 - val_accuracy: 0.7532\n",
      "Epoch 99/120\n",
      "15/15 [==============================] - 0s 2ms/step - loss: 0.4029 - accuracy: 0.8000 - val_loss: 0.5420 - val_accuracy: 0.7597\n",
      "Epoch 100/120\n",
      "15/15 [==============================] - 0s 2ms/step - loss: 0.4022 - accuracy: 0.8043 - val_loss: 0.5438 - val_accuracy: 0.7532\n",
      "Epoch 101/120\n",
      "15/15 [==============================] - 0s 2ms/step - loss: 0.4011 - accuracy: 0.8022 - val_loss: 0.5469 - val_accuracy: 0.7532\n",
      "Epoch 102/120\n",
      "15/15 [==============================] - 0s 2ms/step - loss: 0.4006 - accuracy: 0.8000 - val_loss: 0.5476 - val_accuracy: 0.7532\n",
      "Epoch 103/120\n",
      "15/15 [==============================] - 0s 2ms/step - loss: 0.4000 - accuracy: 0.8022 - val_loss: 0.5484 - val_accuracy: 0.7532\n",
      "Epoch 104/120\n",
      "15/15 [==============================] - 0s 2ms/step - loss: 0.3993 - accuracy: 0.8000 - val_loss: 0.5488 - val_accuracy: 0.7532\n",
      "Epoch 105/120\n",
      "15/15 [==============================] - 0s 2ms/step - loss: 0.3989 - accuracy: 0.8065 - val_loss: 0.5485 - val_accuracy: 0.7532\n",
      "Epoch 106/120\n",
      "15/15 [==============================] - 0s 2ms/step - loss: 0.3982 - accuracy: 0.8065 - val_loss: 0.5484 - val_accuracy: 0.7532\n",
      "Epoch 107/120\n",
      "15/15 [==============================] - 0s 2ms/step - loss: 0.3979 - accuracy: 0.8065 - val_loss: 0.5501 - val_accuracy: 0.7532\n",
      "Epoch 108/120\n",
      "15/15 [==============================] - 0s 2ms/step - loss: 0.3971 - accuracy: 0.8065 - val_loss: 0.5508 - val_accuracy: 0.7532\n",
      "Epoch 109/120\n",
      "15/15 [==============================] - 0s 2ms/step - loss: 0.3965 - accuracy: 0.8109 - val_loss: 0.5533 - val_accuracy: 0.7532\n",
      "Epoch 110/120\n",
      "15/15 [==============================] - 0s 2ms/step - loss: 0.3960 - accuracy: 0.8043 - val_loss: 0.5524 - val_accuracy: 0.7532\n",
      "Epoch 111/120\n",
      "15/15 [==============================] - 0s 2ms/step - loss: 0.3956 - accuracy: 0.8043 - val_loss: 0.5533 - val_accuracy: 0.7532\n",
      "Epoch 112/120\n",
      "15/15 [==============================] - 0s 2ms/step - loss: 0.3947 - accuracy: 0.8022 - val_loss: 0.5556 - val_accuracy: 0.7532\n",
      "Epoch 113/120\n",
      "15/15 [==============================] - 0s 2ms/step - loss: 0.3947 - accuracy: 0.8043 - val_loss: 0.5552 - val_accuracy: 0.7597\n",
      "Epoch 114/120\n",
      "15/15 [==============================] - 0s 2ms/step - loss: 0.3939 - accuracy: 0.8022 - val_loss: 0.5582 - val_accuracy: 0.7532\n",
      "Epoch 115/120\n",
      "15/15 [==============================] - 0s 2ms/step - loss: 0.3935 - accuracy: 0.8043 - val_loss: 0.5585 - val_accuracy: 0.7532\n",
      "Epoch 116/120\n",
      "15/15 [==============================] - 0s 2ms/step - loss: 0.3931 - accuracy: 0.8043 - val_loss: 0.5583 - val_accuracy: 0.7597\n",
      "Epoch 117/120\n",
      "15/15 [==============================] - 0s 2ms/step - loss: 0.3930 - accuracy: 0.8065 - val_loss: 0.5598 - val_accuracy: 0.7532\n",
      "Epoch 118/120\n",
      "15/15 [==============================] - 0s 2ms/step - loss: 0.3922 - accuracy: 0.8065 - val_loss: 0.5617 - val_accuracy: 0.7597\n",
      "Epoch 119/120\n",
      "15/15 [==============================] - 0s 2ms/step - loss: 0.3920 - accuracy: 0.8043 - val_loss: 0.5603 - val_accuracy: 0.7597\n",
      "Epoch 120/120\n",
      "15/15 [==============================] - 0s 2ms/step - loss: 0.3915 - accuracy: 0.8000 - val_loss: 0.5581 - val_accuracy: 0.7597\n"
     ]
    }
   ],
   "source": [
    "# train the model\n",
    "history = model.fit(X_train,y_train, epochs=120, batch_size=32, validation_split=0.25)"
   ]
  },
  {
   "cell_type": "markdown",
   "metadata": {},
   "source": [
    "Note that the call to` model.fit()` returns a `history` object. This `history` object contains a member `history`, which is a dictionary containing the loss and extra metrics it monitored during the training process. Let's have a look."
   ]
  },
  {
   "cell_type": "code",
   "execution_count": 10,
   "metadata": {},
   "outputs": [
    {
     "data": {
      "text/plain": [
       "dict_keys(['loss', 'accuracy', 'val_loss', 'val_accuracy'])"
      ]
     },
     "execution_count": 10,
     "metadata": {},
     "output_type": "execute_result"
    }
   ],
   "source": [
    "history.history.keys()"
   ]
  },
  {
   "cell_type": "markdown",
   "metadata": {},
   "source": [
    "If you use this dictionary to create a `panda` `DataFrame` and call its `plot()` method, you will get the four learning curves plotted in one figure. We will plot them in two separate figures, as follows."
   ]
  },
  {
   "cell_type": "code",
   "execution_count": 11,
   "metadata": {},
   "outputs": [
    {
     "data": {
      "text/plain": [
       "Text(0.5, 0, 'epoch')"
      ]
     },
     "execution_count": 11,
     "metadata": {},
     "output_type": "execute_result"
    },
    {
     "data": {
      "image/png": "[encoded data removed]",
      "text/plain": [
       "<Figure size 432x288 with 2 Axes>"
      ]
     },
     "metadata": {
      "needs_background": "light"
     },
     "output_type": "display_data"
    }
   ],
   "source": [
    "import matplotlib.pyplot as plt\n",
    "fig = plt.figure()\n",
    "fig.add_subplot(1,2,1)\n",
    "plt.plot(history.history['loss'], label='train loss')\n",
    "plt.plot(history.history['val_loss'], label='val loss')\n",
    "plt.legend()\n",
    "plt.grid(True)\n",
    "plt.xlim([0,120])\n",
    "plt.ylim([0,1.0])\n",
    "plt.xlabel('epoch')\n",
    "\n",
    "fig.add_subplot(1,2,2)\n",
    "plt.plot(history.history['accuracy'], label='train accuracy')\n",
    "plt.plot(history.history['val_accuracy'], label='val accuracy')\n",
    "plt.legend()\n",
    "plt.grid(True)\n",
    "plt.xlim([0,120])\n",
    "plt.ylim([0,1.0])\n",
    "plt.xlabel('epoch')"
   ]
  },
  {
   "cell_type": "markdown",
   "metadata": {},
   "source": [
    "You can see that both the training loss and validation loss decrease rapidly before 25 epochs. After that the gap between training loss and validation loss get larger, which means the model starts to overfit. In our later lectures, we will talk about what overfitting is, what causes overfitting and how to prevent overfitting when training deep learning models.\n",
    "\n",
    "In this particular case, the model looks like it performed better on the validation set than on the training set at the beginning of training. But that's not the case. Indeed, the validation loss is computed at the *end* of each epoch, while the training loss is computed *during* each epoch. So the training curve should be shifted by half an epoch to the left. If you do that, you will see the training and validation curves overlap almost perfectly at the beginning of training."
   ]
  },
  {
   "cell_type": "markdown",
   "metadata": {},
   "source": [
    "## 5. Evaluate the model\n",
    "Once you are satisfied with your model's validation accuracy, you may evaluate the performance on the test set to estimate how the model generalize to new data. You can easily do this using the `evaluate()` method. The first output of `evaluate()` method is the loss of the model, and the second is the accuracy of the model."
   ]
  },
  {
   "cell_type": "code",
   "execution_count": 12,
   "metadata": {},
   "outputs": [
    {
     "name": "stdout",
     "output_type": "stream",
     "text": [
      "5/5 [==============================] - 0s 749us/step - loss: 0.4625 - accuracy: 0.7857\n",
      "Accuracy on the test set: 78.57\n"
     ]
    }
   ],
   "source": [
    "# evaluate the model on both the test set\n",
    "_,accuracy = model.evaluate(X_test,y_test)\n",
    "print('Accuracy on the test set: %.2f' % (accuracy*100))"
   ]
  },
  {
   "cell_type": "markdown",
   "metadata": {},
   "source": [
    "You could also use the `predict()` method to make predictions on new instances. The `predict()` outputs the likelihood of the diabetes. You need get the output class (0 or 1) by thresholding the probability with 0.5."
   ]
  },
  {
   "cell_type": "code",
   "execution_count": 13,
   "metadata": {},
   "outputs": [
    {
     "name": "stdout",
     "output_type": "stream",
     "text": [
      "[-0.8354354969841159, 2.4573590260372535, 0.3467431597703781, 1.3950740095371392, -0.6996567372359558, 1.3522451320376832, 2.7859441674361065, -0.9656918919706856] => 1 (expected 1)\n",
      "[-0.5448080776366672, -0.4371963301807875, 0.24436263555830207, 0.5845724632728228, 0.15216202200991366, 0.17619533491603662, -0.18763809923801236, -0.8824028314748293] => 0 (expected 0)\n",
      "[0.036446761058230505, -1.4125356349933882, -0.3699205097141541, -1.2858157204140617, -0.6996567372359558, 0.2267781218890105, -0.2266851391034301, -0.7158247104831167] => 0 (expected 0)\n",
      "[0.3270741804056793, 1.41909460478513, 0.14198211134622604, -0.10123653741236822, 0.7910260914443157, -0.8101690110569577, 0.36202407732902164, 1.4496908624091467] => 1 (expected 1)\n",
      "[-1.1260629163315647, -0.31134609730174223, -0.21634972339604003, -1.2858157204140617, -0.6996567372359558, -0.9619173719758798, 0.5812882242655983, -0.21609034750797898] => 0 (expected 0)\n",
      "[-0.8354354969841159, -1.2552228438945816, 0.14198211134622604, -0.16358281020193105, -0.358929233537608, -0.7090034371110094, -0.5510759318315159, -0.799113770978973] => 0 (expected 0)\n",
      "[1.4895838577954748, 0.9786187897084716, 0.4491236839824541, 0.833957554431074, 0.756953341074481, 0.2520695153754979, 1.2811313233919313, -0.049512226516266404] => 1 (expected 1)\n",
      "[-0.2541806582892183, 1.7337201869827432, 0.8586457808307582, 0.3975336449041343, 0.6291805271876005, 0.13825824468630554, 2.0650757391514714, 1.5329799229050032] => 1 (expected 1)\n",
      "[-0.5448080776366672, 0.19205483421443878, -0.5746815581383061, 0.21049482653544582, 1.6428448506901852, -0.569900772935331, 3.404689568380419, -0.7158247104831167] => 1 (expected 0)\n",
      "[0.6177015997531281, -0.5630465630598328, 0.14198211134622604, 0.7092650088519483, 0.9187989053311961, 0.6946689013890209, -0.4279275753328907, 1.782847104392572] => 1 (expected 0)\n"
     ]
    }
   ],
   "source": [
    "y_predict = (model.predict(X_test) > 0.5).astype(\"int32\")\n",
    "for i in range(10):\n",
    "    print('%s => %d (expected %d)' % ((X_test[i]).tolist(), y_predict[i], y_test[i]))"
   ]
  }
 ],
 "metadata": {
  "kernelspec": {
   "display_name": "Python 3 (ipykernel)",
   "language": "python",
   "name": "python3"
  },
  "language_info": {
   "codemirror_mode": {
    "name": "ipython",
    "version": 3
   },
   "file_extension": ".py",
   "mimetype": "text/x-python",
   "name": "python",
   "nbconvert_exporter": "python",
   "pygments_lexer": "ipython3",
   "version": "3.9.1"
  }
 },
 "nbformat": 4,
 "nbformat_minor": 4
}
